{
 "cells": [
  {
   "cell_type": "markdown",
   "metadata": {
    "collapsed": false
   },
   "source": [
    "# Classes e Objetos - Parte 1: Conceitos de OOP, classes e objetos, override de gets e sets.\n",
    "\n",
    "- Conceitos de OOP: Kotlin é uma linguagem orientada a objetos e suporta conceitos como classes, objetos, herança, encapsulamento e polimorfismo.\n",
    "- Classes e objetos: Uma classe é um modelo ou plano a partir do qual os objetos são criados. Um objeto é uma instância de uma classe.\n",
    "- Override de gets e sets: Kotlin permite que você substitua os métodos get e set padrão de uma propriedade."
   ]
  },
  {
   "cell_type": "markdown",
   "metadata": {
    "collapsed": false
   },
   "source": [
    "# Roteiro\n",
    "## Classes\n",
    "    - o que é uma classe\n",
    "        - exemplos simples\n",
    "        - o que é um construtor\n",
    "            - exemplos simples\n",
    "            - bloco de inicialização\n",
    "            - declaração e inicialização de propriedades de classe no construtor\n",
    "            - como ficam as anotações e os modificadores de visibilidade\n",
    "            - construtores secundários\n",
    "        - tipos de classes\n",
    "        - criação de instancias de classes\n",
    "        - membros de uma classe\n",
    "            - construtor e blocos de inicialização\n",
    "            - funções\n",
    "            - propriedades\n",
    "            - nested e inner class\n",
    "            - declaração de objetos\n",
    "    - Herança\n",
    "        -Superclasse comum\n",
    "            - explicar o que é\n",
    "            - exemplos\n",
    "        - override de métodos\n",
    "        - override de propriedades\n",
    "        - ordem de inicialização da classe derivada\n",
    "        - chamada da implementação da superclasse\n",
    "        - overriding rules\n",
    "    - Propriedades\n",
    "        - var e val\n",
    "        - getters e setters\n",
    "            - backing fields\n",
    "            - backing properties\n",
    "            - overriding\n",
    "        - Constantes em tempo de compilação\n",
    "        - Propriedades e variáveis ​​inicializadas tardiamente\n",
    "    - Interfaces\n",
    "        - exemplos"
   ]
  },
  {
   "cell_type": "markdown",
   "metadata": {
    "collapsed": false
   },
   "source": [
    "## 1. Conceitos de OOP\n"
   ]
  },
  {
   "cell_type": "markdown",
   "metadata": {},
   "source": [
    "### 1.1 Classe"
   ]
  },
  {
   "cell_type": "markdown",
   "metadata": {},
   "source": [
    "- Uma classe em Kotlin é uma estrutura que pode conter atributos e funções métodos. Ela serve como um modelo para criar objetos. As classes encapsulam comportamentos e características relacionados a um conceito específico.\n",
    "- Seria como um design de um carro"
   ]
  },
  {
   "cell_type": "markdown",
   "metadata": {},
   "source": [
    "### 1.2 Objeto"
   ]
  },
  {
   "cell_type": "markdown",
   "metadata": {},
   "source": [
    "- É uma instância de uma classe, onde cada objeto possui seus conjuntos de propriedades e compartilham o mesmo comportamento definido pela classe.\n",
    "- Seria como o carro de fato, existente no Espaço-Tempo."
   ]
  },
  {
   "cell_type": "markdown",
   "metadata": {},
   "source": [
    "### 1.3 Herança"
   ]
  },
  {
   "cell_type": "markdown",
   "metadata": {},
   "source": [
    "- A herança é o conceito onde uma classe herda características e comportamentos de outra classe.\n",
    "- A subclasse pode estender ou modificar o comportamento da superclasse.\n",
    "\n",
    "Exemplo:\n",
    "- Pessoa (superclasse)\n",
    "    - Pessoa Física (subclasse)\n",
    "    - Pessoa Jurídica (subclasse)"
   ]
  },
  {
   "cell_type": "markdown",
   "metadata": {},
   "source": [
    "### 1.4 Polimorfismo"
   ]
  },
  {
   "cell_type": "markdown",
   "metadata": {},
   "source": [
    "- É um conceito que permite que objetos de diferentes classes sejam tratados uniformemente\n",
    "- Um exemplo seria uma subclasse sendo tratada como uma superclasse (como um objeto de Cachorro sendo tratado como objeto de Animal)"
   ]
  },
  {
   "cell_type": "markdown",
   "metadata": {
    "collapsed": false
   },
   "source": [
    "## 2. Classes e objetos"
   ]
  },
  {
   "cell_type": "markdown",
   "metadata": {
    "collapsed": false
   },
   "source": [
    "### 2.1 Criando nossa primeira classe\n",
    "\n",
    "Obs:\n",
    "A estrutura básica é definir os parâmetros entre parentesese o corpo da classe por chaves.\n",
    "Ambos são opcionais, sendo assim, podem ser omitidos."
   ]
  },
  {
   "cell_type": "markdown",
   "metadata": {},
   "source": [
    "Abaixo, foi definida uma classe chamada `PrimeiraClasse`."
   ]
  },
  {
   "cell_type": "code",
   "execution_count": null,
   "metadata": {
    "collapsed": false,
    "is_executing": true
   },
   "outputs": [],
   "source": [
    "class PrimeiraClasse"
   ]
  },
  {
   "cell_type": "markdown",
   "metadata": {
    "collapsed": false
   },
   "source": [
    "### 2.2 Criando instâncias de classes\n",
    "Para criar uma instância de uma classe, basta chamar o construtor como se fosse uma função regular."
   ]
  },
  {
   "cell_type": "markdown",
   "metadata": {},
   "source": [
    "No exemplo, como a a classe `PrimeiraClasse` foi definida anterioremente, é chamado seu construtor."
   ]
  },
  {
   "cell_type": "markdown",
   "metadata": {
    "collapsed": false
   },
   "source": [
    "❗ *O Kotlin não possui a palavra-chave new*"
   ]
  },
  {
   "cell_type": "code",
   "execution_count": null,
   "metadata": {
    "collapsed": false
   },
   "outputs": [],
   "source": [
    "val primeiraInstanciaDaClasse = PrimeiraClasse()\n",
    "\n",
    "println(\"Essa é a minha primeira classe $primeiraInstanciaDaClasse.\")"
   ]
  },
  {
   "cell_type": "markdown",
   "metadata": {
    "collapsed": false
   },
   "source": [
    "### 2.2 Construtores\n",
    "\n",
    "No Kotlin, toda classe tem um construtor primário e, talvez, construtores secundários."
   ]
  },
  {
   "cell_type": "markdown",
   "metadata": {},
   "source": [
    "No exemplo, é definido o construtor da classe `Professor` que recebe os parâmametros: _matricula_ e _nome_."
   ]
  },
  {
   "cell_type": "code",
   "execution_count": null,
   "metadata": {
    "collapsed": false
   },
   "outputs": [],
   "source": [
    "class Professor constructor(val matricula: Long, var nome: String)\n",
    "\n",
    "val gugawag = Professor(2254024, \"Gustavo Wagner\")"
   ]
  },
  {
   "cell_type": "markdown",
   "metadata": {
    "collapsed": false
   },
   "source": [
    "Se o construtor primário não tiver nenhuma nenhum decorator (@Inject, @Target, @Retention, ...) e nenhum modificador de visibilidade (public, internal, protected, ...), podemos omití-lo, como foi feito abaixo."
   ]
  },
  {
   "cell_type": "code",
   "execution_count": null,
   "metadata": {
    "collapsed": false
   },
   "outputs": [],
   "source": [
    "class Professor (val matricula: Long, var nome: String)\n",
    "\n",
    "val gugawag = Professor(2254024, \"Gustavo Wagner\")"
   ]
  },
  {
   "cell_type": "markdown",
   "metadata": {
    "collapsed": false
   },
   "source": [
    "Caso deseje executar algum código durante a criação dos objetos deve-se utilizar blocos de inicialização.\n",
    "Os blocos de inicialização são declarados utilizando a palavra-chave **init**."
   ]
  },
  {
   "cell_type": "code",
   "execution_count": null,
   "metadata": {
    "collapsed": false
   },
   "outputs": [],
   "source": [
    "class Exemplo(nome: String) {\n",
    "    val primeiraPropriedade = \"Primeira propriedade: $nome\".also(::println)\n",
    "\n",
    "    init {\n",
    "        println(\"Primeiro bloco inicializador que imprime $nome\")\n",
    "    }\n",
    "\n",
    "    val segundaPropriedade = \"Segunda propriedade: ${nome.length}\".also(::println)\n",
    "\n",
    "    init {\n",
    "        println(\"Segundo bloco inicializador que imprime ${nome.length}\")\n",
    "    }\n",
    "    }\n",
    "\n",
    "    Exemplo(\"mundo\")\n",
    "}"
   ]
  },
  {
   "cell_type": "markdown",
   "metadata": {
    "collapsed": false
   },
   "source": [
    "_Podemos ainda tratar os valores recebidos_"
   ]
  },
  {
   "cell_type": "code",
   "execution_count": null,
   "metadata": {
    "collapsed": false
   },
   "outputs": [],
   "source": [
    "import java.util.*\n",
    "\n",
    "class Professor (matricula: Long, nome: String) {\n",
    "    val matricula = matricula\n",
    "    var nome = nome.replaceFirstChar { if (it.isLowerCase()) it.titlecase(Locale.getDefault()) else it.toString() }\n",
    "}\n",
    "\n",
    "val gugawag = Professor(2254024, \"gustavo Wagner\")\n",
    "println(gugawag.nome)"
   ]
  },
  {
   "cell_type": "markdown",
   "metadata": {
    "collapsed": false
   },
   "source": [
    "_Podemos também adicionar valores default_"
   ]
  },
  {
   "cell_type": "code",
   "execution_count": null,
   "metadata": {
    "collapsed": false
   },
   "outputs": [],
   "source": [
    "class Professor(val matricula: Long = 0, val nome: String = \"null\")\n",
    "\n",
    "val professorNulo = Professor()\n",
    "println(professorNulo.matricula)"
   ]
  },
  {
   "cell_type": "markdown",
   "metadata": {
    "collapsed": false
   },
   "source": [
    "### 2.3 Companion Object\n",
    "\n",
    "O Companion Object em Kotlin permite a criação de membros estáticos dentro de uma classe, acessíveis sem a necessidade de instanciar a classe. É útil para organizar funcionalidades compartilhadas por todas as instâncias da classe."
   ]
  },
  {
   "cell_type": "code",
   "execution_count": null,
   "metadata": {
    "collapsed": false
   },
   "outputs": [],
   "source": [
    "class Aluno {\n",
    "    companion object {\n",
    "        var n = 0\n",
    "    }\n",
    "    \n",
    "    constructor() {\n",
    "        n += 1\n",
    "        println(\"Objeto Aluno numero $n\")\n",
    "    }\n",
    "}"
   ]
  },
  {
   "cell_type": "code",
   "execution_count": null,
   "metadata": {
    "collapsed": false
   },
   "outputs": [],
   "source": [
    "val aluno1 = Aluno()\n",
    "val aluno2 = Aluno()\n",
    "val aluno3 = Aluno()"
   ]
  },
  {
   "cell_type": "code",
   "execution_count": null,
   "metadata": {
    "collapsed": false
   },
   "outputs": [],
   "source": [
    "println(Aluno.n)"
   ]
  },
  {
   "cell_type": "code",
   "execution_count": null,
   "metadata": {
    "collapsed": false
   },
   "outputs": [],
   "source": [
    "println(aluno1.n) // Erro"
   ]
  },
  {
   "cell_type": "markdown",
   "metadata": {
    "collapsed": false
   },
   "source": [
    "### 2.4 Modificadores de visiblidade"
   ]
  },
  {
   "cell_type": "markdown",
   "metadata": {
    "collapsed": false
   },
   "source": [
    "#### Protected, Public e Private"
   ]
  },
  {
   "cell_type": "markdown",
   "metadata": {
    "collapsed": false
   },
   "source": [
    "private: significa que o membro é visível apenas dentro desta classe (incluindo todos os seus membros).\n",
    "\n",
    "protected: significa que o membro tem a mesma visibilidade que aquele marcado como private, mas também é visível nas subclasses.\n",
    "\n",
    "internal: significa que qualquer cliente dentro deste módulo que vê a classe declarante vê seus internalmembros.\n",
    "\n",
    "public: significa que qualquer cliente que veja a classe declarante verá seus publicmembros."
   ]
  },
  {
   "cell_type": "markdown",
   "metadata": {
    "collapsed": false
   },
   "source": [
    "Modificadores Public, Private, Protected e Internal."
   ]
  },
  {
   "cell_type": "code",
   "execution_count": null,
   "metadata": {
    "collapsed": false
   },
   "outputs": [],
   "source": [
    "// classe animal com alguns atributos\n",
    "open class Animal {\n",
    "    internal val idAnimal: Int = 0\n",
    "    public var nomeAnimal: String = \" \"\n",
    "    private var especieAnimal: String = \"\"\n",
    "    protected var somDoAnimal: String = \"Som!\"\n",
    "\n",
    "    open fun emitirSom() {\n",
    "        println(\"Som: $somDoAnimal\")\n",
    "    }\n",
    "}\n",
    "\n",
    "// subsclasse cachorro\n",
    "class Cachorro : Animal() {\n",
    "    fun testeModificadoresVisibilidade() {\n",
    "        println(\"ID do animal (internal): $idAnimal\")\n",
    "        println(\"Nome do animal (public): $nomeAnimal\")\n",
    "        // println(\"Espécie do animal (private): $especieAnimal\")\n",
    "        println(\"Som do animal (protected): $somDoAnimal\")\n",
    "    }\n",
    "}"
   ]
  },
  {
   "cell_type": "markdown",
   "metadata": {
    "collapsed": false
   },
   "source": [
    "Instanciando..."
   ]
  },
  {
   "cell_type": "code",
   "execution_count": null,
   "metadata": {
    "collapsed": false
   },
   "outputs": [],
   "source": [
    "    val cachorroPitDog = Cachorro()\n",
    "\n",
    "    println(\"ID do animal: ${cachorroPitDog.idAnimal}\")  //  permitido (internal)\n",
    "    println(\"Nome do animal: ${cachorroPitDog.nomeAnimal}\")  // permitido (public)\n",
    "    // println(\"Espécie do animal: ${cachorroPitDog.especieAnimal}\")  // não acessível (private:  it is invisible)\n",
    "    // println(\"Som do animal: ${cachorroPitDog.somDoAnimal}\")  // não acessível  (protected: it is protected)\n",
    "\n",
    "    // Chamada ao método emitirSom\n",
    "    cachorroPitDog.emitirSom()"
   ]
  },
  {
   "cell_type": "markdown",
   "metadata": {
    "collapsed": false
   },
   "source": [
    "## 3. Classes diferentes"
   ]
  },
  {
   "cell_type": "markdown",
   "metadata": {
    "collapsed": false
   },
   "source": [
    "### 3.1 Abstratas"
   ]
  },
  {
   "cell_type": "markdown",
   "metadata": {
    "collapsed": false
   },
   "source": [
    "\n",
    "Uma classe abstrata em Kotlin é uma classe que não pode ser instanciada diretamente e pode conter métodos abstratos (sem implementação) que devem ser definidos por suas subclasses."
   ]
  },
  {
   "cell_type": "code",
   "execution_count": null,
   "metadata": {
    "collapsed": false
   },
   "outputs": [],
   "source": [
    "abstract class Animal {\n",
    "    abstract val nome: String\n",
    "\n",
    "\n",
    "    // Método sem implementação\n",
    "    abstract fun emitirSom()\n",
    "\n",
    "    // Método com implementação\n",
    "    fun comer() {\n",
    "        println(\"$nome está comendo!\")\n",
    "    }\n",
    "}"
   ]
  },
  {
   "cell_type": "code",
   "execution_count": null,
   "metadata": {
    "collapsed": false
   },
   "outputs": [],
   "source": [
    "class Gato(override val nome: String): Animal() {\n",
    "    override fun emitirSom() {\n",
    "        println(\"Miau\")\n",
    "    }\n",
    "}\n",
    "\n",
    "val gato1 = Gato(\"Princesinho\")\n",
    "gato1.comer()"
   ]
  },
  {
   "cell_type": "markdown",
   "metadata": {
    "collapsed": false
   },
   "source": [
    "### 3.2 Interfaces"
   ]
  },
  {
   "cell_type": "markdown",
   "metadata": {
    "collapsed": false
   },
   "source": [
    "Uma interface é um meio de conter algumas declarações prévias que uma classe deve conter (mapeamento das atividades,processos,argumentos e retornos)."
   ]
  },
  {
   "cell_type": "code",
   "execution_count": null,
   "metadata": {
    "collapsed": false
   },
   "outputs": [],
   "source": [
    "\n",
    "// inteface padrão das ações de um animal\n",
    "interface AcaoAnimal {\n",
    "    var emitindoSom:Boolean\n",
    "    fun emitirSom():Unit\n",
    "    fun realizarAcao():Unit\n",
    "}"
   ]
  },
  {
   "cell_type": "markdown",
   "metadata": {
    "collapsed": false
   },
   "source": [
    "Fazendo uso dessa interface (alterando o Gato e criando a nova classe Cachorro)"
   ]
  },
  {
   "cell_type": "code",
   "execution_count": null,
   "metadata": {
    "collapsed": false
   },
   "outputs": [],
   "source": [
    "class Cachorro : AcaoAnimal {\n",
    "    override var emitindoSom: Boolean = false\n",
    "\n",
    "    override fun realizarAcao() {\n",
    "        println(\"O cachorro late e pula.\")\n",
    "    }\n",
    "\n",
    "    override fun emitirSom() {\n",
    "        println(\"Auau!\")\n",
    "        emitindoSom= true\n",
    "    }\n",
    "}\n",
    "\n",
    "class Gato : AcaoAnimal {\n",
    "    override var emitindoSom: Boolean = true\n",
    "\n",
    "    override fun realizarAcao() {\n",
    "        println(\"O gato mia e cava.\")\n",
    "    }\n",
    "\n",
    "    override fun emitirSom() {\n",
    "        println(\"Miauuuuuu!\")\n",
    "        emitindoSom= true\n",
    "    }\n",
    "}"
   ]
  },
  {
   "cell_type": "markdown",
   "metadata": {
    "collapsed": false
   },
   "source": [
    "Fazendo uso de uma \"mini rotina\" "
   ]
  },
  {
   "cell_type": "code",
   "execution_count": null,
   "metadata": {
    "collapsed": false
   },
   "outputs": [],
   "source": [
    "// Cachorro\n",
    "\n",
    "override fun realizarAcao() {\n",
    "        if (emitindoSom) {\n",
    "            println(\"O cachorro está latindo e pulando.\")\n",
    "        }else{\n",
    "            println(\"O cachorro está pulando.\")\n",
    "        }\n",
    "}\n",
    "\n",
    "// Gato\n",
    "\n",
    "override fun realizarAcao() {\n",
    "        if (emitindoSom) {\n",
    "            println(\"O gato  está miando e cavando.\")\n",
    "        }else{\n",
    "            println(\"O gato está cavando.\")\n",
    "        }\n",
    "    }"
   ]
  },
  {
   "cell_type": "markdown",
   "metadata": {
    "collapsed": false
   },
   "source": [
    "Instanciando..."
   ]
  },
  {
   "cell_type": "code",
   "execution_count": null,
   "metadata": {
    "collapsed": false
   },
   "outputs": [],
   "source": [
    "    val cachorroPitdog :AcaoAnimal= Cachorro()\n",
    "    val gatoEnraivado = Gato()\n",
    "\n",
    "    println(\"Estado inicial \")\n",
    "\n",
    "    cachorroPitdog.realizarAcao()\n",
    "    gatoEnraivado.realizarAcao()\n",
    "\n",
    "    println(\" Cachorro: ${cachorroPitdog.emitindoSom}  || Gato: ${gatoEnraivado.emitindoSom} \")\n",
    "    cachorroPitdog.emitirSom()\n",
    "    gatoEnraivado.emitirSom()\n",
    "\n",
    "    println(\"Estado alterado\")\n",
    "    println(\" Cachorro: ${cachorroPitdog.emitindoSom}  || Gato: ${gatoEnraivado.emitindoSom} \")\n",
    "\n",
    "    cachorroPitdog.realizarAcao()\n",
    "    gatoEnraivado.realizarAcao()"
   ]
  },
  {
   "cell_type": "markdown",
   "metadata": {
    "collapsed": false
   },
   "source": [
    "### 3.3 Open "
   ]
  },
  {
   "cell_type": "markdown",
   "metadata": {
    "collapsed": false
   },
   "source": [
    "Uma _Open Class_ é uma classe que pode ser herdada por outras classes.\n",
    "Usamos a keyword _open_ para isso."
   ]
  },
  {
   "cell_type": "code",
   "execution_count": null,
   "metadata": {
    "collapsed": false
   },
   "outputs": [],
   "source": [
    "open class Animal(val nome: String) {\n",
    "    open fun comer(comida: String) {\n",
    "        println(\"$nome está comendo $comida\")\n",
    "    }\n",
    "}"
   ]
  },
  {
   "cell_type": "code",
   "execution_count": null,
   "metadata": {
    "collapsed": false
   },
   "outputs": [],
   "source": [
    "class Dinossauro(nome: String): Animal(nome) {\n",
    "    override fun comer(comida: String) {\n",
    "        super.comer(comida)\n",
    "    }\n",
    "}"
   ]
  },
  {
   "cell_type": "code",
   "execution_count": null,
   "metadata": {
    "collapsed": false
   },
   "outputs": [],
   "source": [
    "val dinossauro1 = Dinossauro(\"T-Rex\")\n",
    "dinossauro1.comer(\"Triceratops\")"
   ]
  },
  {
   "cell_type": "markdown",
   "metadata": {
    "collapsed": false
   },
   "source": [
    "### 3.4 Data Class"
   ]
  },
  {
   "cell_type": "markdown",
   "metadata": {
    "collapsed": false
   },
   "source": [
    "_Data Class_ em Kotlin é uma classe especializada em armazenar dados.\n",
    "Fornece por padrão métodos como `equals` e `toString`, que não estão disponíveis em classes comuns. Isso economiza tempo e reduz a quantidade de código que você precisa escrever para criar uma classe simples que apenas mantém dados."
   ]
  },
  {
   "cell_type": "markdown",
   "metadata": {
    "collapsed": false
   },
   "source": [
    "No exemplo abaixo, é criada um _dataclass_ `Medico` que armazena as informações típicas de um médico."
   ]
  },
  {
   "cell_type": "code",
   "execution_count": null,
   "metadata": {
    "collapsed": false
   },
   "outputs": [],
   "source": [
    "data class Medico(val CRM: Long, val nome: String)\n",
    "\n",
    "val medico1 = Medico(21050156, \"Daniel Alves Montenegro\")\n",
    "println(medico1.toString())"
   ]
  },
  {
   "cell_type": "markdown",
   "metadata": {
    "collapsed": false
   },
   "source": [
    "### 3.5 Nested"
   ]
  },
  {
   "cell_type": "markdown",
   "metadata": {
    "collapsed": false
   },
   "source": [
    "As classes em Kotlin podem ser aninhadas a outras classes. Nesses casos, uma classe é declarada dentro de outra classe."
   ]
  },
  {
   "cell_type": "markdown",
   "metadata": {
    "collapsed": false
   },
   "source": [
    "Abaixo, é criada a classe `Escola` que possui a classe aninhada `Aluno`."
   ]
  },
  {
   "cell_type": "code",
   "execution_count": null,
   "metadata": {
    "collapsed": false
   },
   "outputs": [],
   "source": [
    "class Escola(val nomeDaEscola: String) {\n",
    "    class Aluno(val nome: String, var idade: Int) {\n",
    "        fun acessarDetalhes() {\n",
    "            println(\"O aluno $nome tem $idade anos.\")\n",
    "        }\n",
    "    }\n",
    "}\n",
    "\n",
    "val escola = Escola(\"IFPB\")\n",
    "val aluno = Escola.Aluno(\"Matheus\", 19)\n",
    "aluno.acessarDetalhes()\n"
   ]
  },
  {
   "cell_type": "markdown",
   "metadata": {
    "collapsed": false
   },
   "source": [
    "Também é possível usar essa ideia de aninhamento com _interfaces_. Todas as combinações entre classes e interfaces são possíveis: Você pode aninhar interfaces em classes, classes em interfaces e interfaces em interfaces."
   ]
  },
  {
   "cell_type": "markdown",
   "metadata": {
    "collapsed": false
   },
   "source": [
    "Aninhamento de interfaces em classes:\n",
    "\n",
    "Vamos considerar um exemplo onde temos uma classe `Loja` que precisa lidar com diferentes tipos de produtos, cada um com suas próprias características específicas. Podemos aninhar uma interface `Produto` dentro da classe `Loja` para definir métodos comuns para todos os produtos."
   ]
  },
  {
   "cell_type": "code",
   "execution_count": null,
   "metadata": {
    "collapsed": false
   },
   "outputs": [],
   "source": [
    "class Loja(val nome: String) {\n",
    "    interface Produto {\n",
    "        fun mostrarDetalhes()\n",
    "        fun calcularPreco(): Double\n",
    "    }\n",
    "\n",
    "    class Livro(val titulo: String, val autor: String, val preco: Double) : Produto {\n",
    "        override fun mostrarDetalhes() {\n",
    "            println(\"Livro: $titulo, Autor: $autor\")\n",
    "        }\n",
    "\n",
    "        override fun calcularPreco(): Double {\n",
    "            return preco\n",
    "        }\n",
    "    }\n",
    "}\n",
    "\n",
    "val livro = Loja.Livro(\"O Senhor dos Anéis\", \"J.R.R. Tolkien\", 39.90)\n",
    "livro.mostrarDetalhes()\n",
    "println(\"Preço: R$ ${livro.calcularPreco()}\")\n"
   ]
  },
  {
   "cell_type": "markdown",
   "metadata": {
    "collapsed": false
   },
   "source": [
    "Aninhamento de classes em interfaces:\n",
    "\n",
    "Vamos criar uma interface `Pagamento` que define operações comuns para diferentes métodos de pagamento, e aninharemos uma classe `Transacao` dentro dela para lidar com os detalhes de uma transação de pagamento."
   ]
  },
  {
   "cell_type": "code",
   "execution_count": null,
   "metadata": {
    "collapsed": false
   },
   "outputs": [],
   "source": [
    "interface Pagamento {\n",
    "    class Transacao(val valor: Double, val descricao: String) {\n",
    "        fun processar() {\n",
    "            println(\"Processando transação de $descricao no valor de R$ $valor\")\n",
    "     \t\t// ...\n",
    "        }\n",
    "    }\n",
    "\n",
    "    fun realizarPagamento()\n",
    "}\n",
    "\n",
    "class CartaoCredito : Pagamento {\n",
    "    override fun realizarPagamento() {\n",
    "        val transacao = Pagamento.Transacao(100.0, \"Compra com cartão de crédito\")\n",
    "        transacao.processar()\n",
    "    }\n",
    "}\n",
    "\n",
    "val cartaoCredito = CartaoCredito()\n",
    "cartaoCredito.realizarPagamento()\n"
   ]
  },
  {
   "cell_type": "markdown",
   "metadata": {
    "collapsed": false
   },
   "source": [
    "Aninhamento de interfaces em interfaces:\n",
    "\n",
    "Vamos criar uma interface `Animal` que define características comuns de animais, e uma interface aninhada `Som` para representar os sons que cada animal faz."
   ]
  },
  {
   "cell_type": "code",
   "execution_count": null,
   "metadata": {
    "collapsed": false
   },
   "outputs": [],
   "source": [
    "interface Animal {\n",
    "    interface Som {\n",
    "        fun fazerSom()\n",
    "    }\n",
    "\n",
    "    fun mover()\n",
    "}\n",
    "\n",
    "class Cachorro : Animal {\n",
    "    override fun mover() {\n",
    "        println(\"O cachorro está correndo.\")\n",
    "    }\n",
    "\n",
    "    inner class Latido : Animal.Som {\n",
    "        override fun fazerSom() {\n",
    "            println(\"Au au!\")\n",
    "        }\n",
    "    }\n",
    "}\n",
    "\n",
    "\n",
    "val cachorro = Cachorro()\n",
    "val latido = cachorro.Latido()\n",
    "\n",
    "cachorro.mover()\n",
    "latido.fazerSom()"
   ]
  },
  {
   "cell_type": "markdown",
   "metadata": {
    "collapsed": false
   },
   "source": [
    "### 3.6 Inner        "
   ]
  },
  {
   "cell_type": "markdown",
   "metadata": {
    "collapsed": false
   },
   "source": [
    "São como as nested classes, mas permitindo o acesso de itens da classe mais externa. Devem ser declaradas com `inner`."
   ]
  },
  {
   "cell_type": "markdown",
   "metadata": {
    "collapsed": false
   },
   "source": [
    "No exemplo abaixo, criamos uma classe `Carro` que possui uma classe aninhada `Motor`. Nesse caso, a classe interna acessa o atributo `modelo` da classe externa no método `ligar()`."
   ]
  },
  {
   "cell_type": "code",
   "execution_count": null,
   "metadata": {
    "collapsed": false
   },
   "outputs": [],
   "source": [
    "class Carro(val modelo: String) {\n",
    "    inner class Motor(val tipo: String) {\n",
    "        fun ligar() {\n",
    "            println(\"$modelo: Motor $tipo ligado.\")\n",
    "        }\n",
    "    }\n",
    "}\n",
    "\n",
    "val carro = Carro(\"BMW\")\n",
    "val motor = carro.Motor(\"Rotativo\")\n",
    "motor.ligar()\n"
   ]
  },
  {
   "cell_type": "markdown",
   "metadata": {
    "collapsed": false
   },
   "source": [
    "### 3.7 Sealed"
   ]
  },
  {
   "cell_type": "markdown",
   "metadata": {
    "collapsed": false
   },
   "source": [
    "É uma classe especial que restringe a hieraquia das subclasses a um conjunto dentro do próprio arquivo.\n",
    "Ou seja, pode somente ser herdada dentro do arquivo onde foi criada."
   ]
  },
  {
   "cell_type": "markdown",
   "metadata": {
    "collapsed": false
   },
   "source": [
    "No exemplo mostrado abaixo, é criada a classe `Resultado` que é herdada pela classe `Sucesso` que está dentro do mesmo arquivo."
   ]
  },
  {
   "cell_type": "code",
   "execution_count": null,
   "metadata": {
    "collapsed": false
   },
   "outputs": [],
   "source": [
    "sealed class Resultado(val mensagem: String) {\n",
    "    fun mostrar() {\n",
    "        println(\"O resultado foi: $mensagem.\")\n",
    "    }\n",
    "}\n",
    "\n",
    "class Sucesso(mensagem: String) : Resultado(mensagem)\n",
    "\n",
    "val sucesso = Sucesso(\"Feito com sucesso\")\n",
    "sucesso.mostrar()"
   ]
  },
  {
   "cell_type": "markdown",
   "metadata": {
    "collapsed": false
   },
   "source": [
    "Porém, na classe `Erro` abaixo, o código não compila pois é como se as células fossem módulos diferentes e, por isso, a classe `Resultado` não pode ser herdada."
   ]
  },
  {
   "cell_type": "code",
   "execution_count": null,
   "metadata": {
    "collapsed": false
   },
   "outputs": [],
   "source": [
    "class Erro(mensagem: String): Resultado(mensagem)"
   ]
  },
  {
   "cell_type": "markdown",
   "metadata": {
    "collapsed": false
   },
   "source": [
    "### 3.8 Singleton"
   ]
  },
  {
   "cell_type": "markdown",
   "metadata": {
    "collapsed": false
   },
   "source": [
    "Semelhante ao `static` de Java.\n",
    "A singleton é uma instância única de uma classe. No Kotlin, isso é frequentemente implementado usando um objeto, pois os objetos são instâncias únicas por definição."
   ]
  },
  {
   "cell_type": "markdown",
   "metadata": {
    "collapsed": false
   },
   "source": [
    "No exemplo abaixo, foi criado uma classe singleton `Fachada` que se caracteriza por ser uma instância única. Perceba que a classe não foi instanciada em um objeto, e sim acessada diretamente. "
   ]
  },
  {
   "cell_type": "code",
   "execution_count": null,
   "metadata": {
    "collapsed": false
   },
   "outputs": [],
   "source": [
    "object Fachada {\n",
    "    fun criarObjeto() {\n",
    "        println(\"Criando objeto...\")\n",
    "    }\n",
    "    \n",
    "    fun deletarObjeto() {\n",
    "        println(\"Deletando objeto...\")\n",
    "    }\n",
    "}\n",
    "\n",
    "Fachada.criarObjeto()\n",
    "Fachada.deletarObjeto()"
   ]
  },
  {
   "cell_type": "markdown",
   "metadata": {
    "collapsed": false
   },
   "source": [
    "### 3.9 Enum"
   ]
  },
  {
   "cell_type": "markdown",
   "metadata": {
    "collapsed": false
   },
   "source": [
    "É uma estrutura de um conjunto fixo de valores nomeados e definidos."
   ]
  },
  {
   "cell_type": "markdown",
   "metadata": {
    "collapsed": false
   },
   "source": [
    "Abaixo, é criado um _Enum_ `Dia` que armazena os valores definidos dos dias da semana associados a um número : Int."
   ]
  },
  {
   "cell_type": "code",
   "execution_count": null,
   "metadata": {
    "collapsed": false
   },
   "outputs": [],
   "source": [
    "enum class Dia(val numero: Int) {\n",
    "    DOMINGO(1),\n",
    "    SEGUNDA(2),\n",
    "    TERCA(3),\n",
    "    QUARTA(4),\n",
    "    QUINTA(5),\n",
    "    SEXTA(6),\n",
    "    SABADO(7)\n",
    "}\n",
    "\n",
    "fun mensagemDia(numeroDia: Int) {\n",
    "\n",
    "    val msg = when (numeroDia) {\n",
    "        Dia.DOMINGO.numero, Dia.SABADO.numero -> \"Fim de semana\"\n",
    "        else -> \"Dia de trabalho\"\n",
    "    }\n",
    "\n",
    "    println(\"Número do dia: $numeroDia. $msg\")\n",
    "}\n",
    "\n",
    "mensagemDia(2)  // SEGUNDA\n",
    "mensagemDia(6)  // SEXTA\n",
    "mensagemDia(1)  // DOMINGO\n",
    "mensagemDia(7)  // SABADO"
   ]
  },
  {
   "cell_type": "markdown",
   "metadata": {
    "collapsed": false
   },
   "source": [
    "## 4. Override"
   ]
  },
  {
   "cell_type": "markdown",
   "metadata": {
    "collapsed": false
   },
   "source": [
    "\n",
    "A necessidade de realizar o override de getters e setters surge quando precisamos aplicar alguma lógica de negócios ou para facilitar aos desenvolvedores a definição de valores em um contêiner e obtenção de valores de acordo com a necessidade da lógica de negócios."
   ]
  },
  {
   "cell_type": "code",
   "execution_count": null,
   "metadata": {
    "collapsed": false
   },
   "outputs": [],
   "source": [
    "class Retangulo(val altura: Int, val largura: Int) {\n",
    "    val area: int\n",
    "        get() = altura * largura\n",
    "\n",
    "class Cachorro{\n",
    "    // sobrescrevendo...\n",
    "    override var idadeAnimal: Int = 1\n",
    "        get() = field * 7\n",
    "        set(value) {\n",
    "            if (value > 0) {\n",
    "                field = value\n",
    "            } else {\n",
    "                println(\"Idade inalterada. Coloque um valor válido!\")\n",
    "            }\n",
    "        }\n",
    "}"
   ]
  },
  {
   "cell_type": "markdown",
   "metadata": {
    "collapsed": false
   },
   "source": [
    "Instanciando..."
   ]
  },
  {
   "cell_type": "code",
   "execution_count": null,
   "metadata": {
    "collapsed": false
   },
   "outputs": [],
   "source": [
    "    val meuCachorro = Cachorro()\n",
    "\n",
    "    // o setter\n",
    "    meuCachorro.idadeAnimal = 5\n",
    "    println(\"Idade do cachorro: ${meuCachorro.idadeAnimal}\")\n",
    "\n",
    "    // atribuindo valor invalido\n",
    "    meuCachorro.idadeAnimal = -5\n",
    "    println(\"Idade do cachorro após tentativa de valor negativo: ${meuCachorro.idadeAnimal}\")"
   ]
  }
 ],
 "metadata": {
  "kernelspec": {
   "display_name": "Python 3",
   "language": "python",
   "name": "python3"
  },
  "language_info": {
   "codemirror_mode": {
    "name": "ipython",
    "version": 3
   },
   "file_extension": ".py",
   "mimetype": "text/x-python",
   "name": "python",
   "nbconvert_exporter": "python",
   "pygments_lexer": "ipython3",
   "version": "3.12.2"
  }
 },
 "nbformat": 4,
 "nbformat_minor": 0
}
