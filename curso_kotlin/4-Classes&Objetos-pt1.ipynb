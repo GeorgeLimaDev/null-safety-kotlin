{
 "cells": [
  {
   "cell_type": "markdown",
   "metadata": {
    "collapsed": false
   },
   "source": [
    "# Classes e Objetos - Parte 1: Conceitos de OOP, classes e objetos, override de gets e sets.\n",
    "\n",
    "- Conceitos de OOP: Kotlin é uma linguagem orientada a objetos e suporta conceitos como classes, objetos, herança, encapsulamento e polimorfismo.\n",
    "- Classes e objetos: Uma classe é um modelo ou plano a partir do qual os objetos são criados. Um objeto é uma instância de uma classe.\n",
    "- Override de gets e sets: Kotlin permite que você substitua os métodos get e set padrão de uma propriedade."
   ]
  },
  {
   "cell_type": "markdown",
   "metadata": {},
   "source": [
    "# Roteiro\n",
    "## Classes\n",
    "    - o que é uma classe\n",
    "        - exemplos simples\n",
    "        - o que é um construtor\n",
    "            - exemplos simples\n",
    "            - bloco de inicialização\n",
    "            - declaração e inicialização de propriedades de classe no construtor\n",
    "            - como ficam as anotações e os modificadores de visibilidade\n",
    "            - construtores secundários\n",
    "        - tipos de classes\n",
    "        - criação de instancias de classes\n",
    "        - membros de uma classe\n",
    "            - construtor e blocos de inicialização\n",
    "            - funções\n",
    "            - propriedades\n",
    "            - nested e inner class\n",
    "            - declaração de objetos\n",
    "    - Herança\n",
    "        -Superclasse comum\n",
    "            - explicar o que é\n",
    "            - exemplos\n",
    "        - override de métodos\n",
    "        - override de propriedades\n",
    "        - ordem de inicialização da classe derivada\n",
    "        - chamada da implementação da superclasse\n",
    "        - overriding rules\n",
    "    - Propriedades\n",
    "        - var e val\n",
    "        - getters e setters\n",
    "            - backing fields\n",
    "            - backing properties\n",
    "            - overriding\n",
    "        - Constantes em tempo de compilação\n",
    "        - Propriedades e variáveis ​​inicializadas tardiamente\n",
    "    - Interfaces\n",
    "        - exemplos"
   ]
  },
  {
   "cell_type": "markdown",
   "metadata": {
    "collapsed": false
   },
   "source": [
    "## 1. Conceitos de OOP\n"
   ]
  },
  {
   "cell_type": "markdown",
   "metadata": {
    "collapsed": false
   },
   "source": [
    "## 2. Classes e objetos"
   ]
  },
  {
   "cell_type": "markdown",
   "metadata": {
    "collapsed": false
   },
   "source": [
    "### 2.1 Criando nossa primeira classe\n",
    "\n",
    "Obs:\n",
    "A estrutura básica é definir os parâmetros entre parentesese o corpo da classe por chaves.\n",
    "Ambos são opcionais, sendo assim, podem ser omitidos."
   ]
  },
  {
   "cell_type": "code",
   "execution_count": 2,
   "metadata": {
    "ExecuteTime": {
     "end_time": "2024-03-06T00:45:30.735444100Z",
     "start_time": "2024-03-06T00:45:30.539920200Z"
    },
    "collapsed": false
   },
   "outputs": [
    {
     "name": "stdout",
     "output_type": "stream",
     "text": [
      "Essa é a minha primeira classe Line_2_jupyter$PrimeiraClasse@5234dec2\r\n"
     ]
    }
   ],
   "source": [
    "class PrimeiraClasse\n",
    "\n",
    "val primeiraInstanciaDaClasse = PrimeiraClasse()\n",
    "println(\"Essa é a minha primeira classe $primeiraInstanciaDaClasse\")"
   ]
  },
  {
   "cell_type": "markdown",
   "metadata": {
    "collapsed": false
   },
   "source": [
    "### 2.2 Construtores\n",
    "\n",
    "No Kotlin, toda classe tem um construtor primário e, talvez, construtores secundários"
   ]
  },
  {
   "cell_type": "code",
   "execution_count": 30,
   "metadata": {
    "ExecuteTime": {
     "end_time": "2024-03-06T01:19:35.849668300Z",
     "start_time": "2024-03-06T01:19:35.788830700Z"
    },
    "collapsed": false
   },
   "outputs": [],
   "source": [
    "class Professor constructor(val matricula: Long, var nome: String)\n",
    "\n",
    "val gugawag = Professor(2254024, \"Gustavo Wagner\")"
   ]
  },
  {
   "cell_type": "markdown",
   "metadata": {
    "collapsed": false
   },
   "source": [
    "_Se o construtor não tiver nenhuma modificação, podemos omití-lo_ "
   ]
  },
  {
   "cell_type": "code",
   "execution_count": 14,
   "metadata": {
    "ExecuteTime": {
     "end_time": "2024-03-06T01:05:12.014466700Z",
     "start_time": "2024-03-06T01:05:11.962596900Z"
    },
    "collapsed": false
   },
   "outputs": [],
   "source": [
    "class Professor (val matricula: Long, var nome: String)\n",
    "\n",
    "val gugawag = Professor(2254024, \"Gustavo Wagner\")"
   ]
  },
  {
   "cell_type": "markdown",
   "metadata": {
    "collapsed": false
   },
   "source": [
    "_Podemos ainda tratar os valores recebidos_"
   ]
  },
  {
   "cell_type": "code",
   "execution_count": 29,
   "metadata": {
    "ExecuteTime": {
     "end_time": "2024-03-06T01:18:34.016454Z",
     "start_time": "2024-03-06T01:18:33.848394100Z"
    },
    "collapsed": false
   },
   "outputs": [
    {
     "name": "stdout",
     "output_type": "stream",
     "text": [
      "Gustavo Wagner\r\n"
     ]
    }
   ],
   "source": [
    "import java.util.*\n",
    "\n",
    "class Professor (matricula: Long, nome: String) {\n",
    "    val matricula = matricula\n",
    "    var nome = nome.replaceFirstChar { if (it.isLowerCase()) it.titlecase(Locale.getDefault()) else it.toString() }\n",
    "}\n",
    "\n",
    "val gugawag = Professor(2254024, \"gustavo Wagner\")\n",
    "println(gugawag.nome)"
   ]
  },
  {
   "cell_type": "markdown",
   "metadata": {
    "collapsed": false
   },
   "source": [
    "_Podemos também adicionar valores default_"
   ]
  },
  {
   "cell_type": "code",
   "execution_count": 33,
   "metadata": {
    "ExecuteTime": {
     "end_time": "2024-03-06T01:29:04.458900700Z",
     "start_time": "2024-03-06T01:29:04.398063900Z"
    },
    "collapsed": false
   },
   "outputs": [
    {
     "name": "stdout",
     "output_type": "stream",
     "text": [
      "0\r\n"
     ]
    }
   ],
   "source": [
    "class Professor(val matricula: Long = 0, val nome: String = \"null\")\n",
    "\n",
    "val professorNulo = Professor()\n",
    "println(professorNulo.matricula)"
   ]
  },
  {
   "cell_type": "markdown",
   "metadata": {
    "collapsed": false
   },
   "source": [
    "## 3. Override"
   ]
  }
 ],
 "metadata": {
  "kernelspec": {
   "display_name": "Kotlin",
   "language": "kotlin",
   "name": "kotlin"
  },
  "language_info": {
   "codemirror_mode": "text/x-kotlin",
   "file_extension": ".kt",
   "mimetype": "text/x-kotlin",
   "name": "kotlin",
   "nbconvert_exporter": "",
   "pygments_lexer": "kotlin",
   "version": "1.9.0"
  }
 },
 "nbformat": 4,
 "nbformat_minor": 0
}
