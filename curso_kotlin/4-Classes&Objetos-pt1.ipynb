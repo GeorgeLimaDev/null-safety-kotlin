{
 "cells": [
  {
   "cell_type": "raw",
   "source": [],
   "metadata": {
    "collapsed": false
   }
  },
  {
   "cell_type": "markdown",
   "source": [
    "# Classes e Objetos - Parte 1: Conceitos de OOP, classes e objetos, override de gets e sets.\n",
    "\n",
    "- Conceitos de OOP: Kotlin é uma linguagem orientada a objetos e suporta conceitos como classes, objetos, herança, encapsulamento e polimorfismo.\n",
    "- Classes e objetos: Uma classe é um modelo ou plano a partir do qual os objetos são criados. Um objeto é uma instância de uma classe.\n",
    "- Override de gets e sets: Kotlin permite que você substitua os métodos get e set padrão de uma propriedade."
   ],
   "metadata": {
    "collapsed": false
   }
  },
  {
   "cell_type": "markdown",
   "source": [
    "## 1. Conceitos de OOP\n"
   ],
   "metadata": {
    "collapsed": false
   }
  },
  {
   "cell_type": "markdown",
   "source": [
    "### 1.1 Classe"
   ],
   "metadata": {
    "collapsed": false
   }
  },
  {
   "cell_type": "markdown",
   "source": [
    "- Uma classe em Kotlin é uma estrutura que pode conter atributos e funções métodos. Ela serve como um modelo para criar objetos. As classes encapsulam comportamentos e características relacionados a um conceito específico.\n",
    "- Seria como um design de um carro. O design é apenas um modelo que deve ser seguido ao fabricar um carro, mas ele não chega a se materializar."
   ],
   "metadata": {
    "collapsed": false
   }
  },
  {
   "cell_type": "markdown",
   "source": [
    "### 1.2 Objeto"
   ],
   "metadata": {
    "collapsed": false
   }
  },
  {
   "cell_type": "markdown",
   "source": [
    "- É uma instância de uma classe, onde cada objeto possui seus conjuntos de propriedades e compartilham o mesmo comportamento definido pela classe.\n",
    "- Seria como o carro de fato, existente no Espaço-Tempo após sua fabricação."
   ],
   "metadata": {
    "collapsed": false
   }
  },
  {
   "cell_type": "markdown",
   "source": [
    "### 1.3 Herança"
   ],
   "metadata": {
    "collapsed": false
   }
  },
  {
   "cell_type": "markdown",
   "source": [
    "- A herança é o conceito onde uma classe herda características e comportamentos de outra classe.\n",
    "- A subclasse pode estender ou modificar o comportamento da superclasse.\n",
    "\n",
    "Exemplo:\n",
    "- Pessoa (superclasse)\n",
    "    - Pessoa Física (subclasse)\n",
    "    - Pessoa Jurídica (subclasse)"
   ],
   "metadata": {
    "collapsed": false
   }
  },
  {
   "cell_type": "markdown",
   "source": [
    "### 1.4 Encapsulamento"
   ],
   "metadata": {
    "collapsed": false
   }
  },
  {
   "cell_type": "markdown",
   "source": [
    "- O encapsulamento é o conceito de esconder os detalhes internos de uma classe e fornecer uma interface pública para interagir com ela.\n",
    "- Somente certos aspectos da classe são acessíveis de fora, enquanto outros são mantidos privados ou protegidos dentro da classe."
   ],
   "metadata": {
    "collapsed": false
   }
  },
  {
   "cell_type": "markdown",
   "source": [
    "### 1.5 Polimorfismo"
   ],
   "metadata": {
    "collapsed": false
   }
  },
  {
   "cell_type": "markdown",
   "source": [
    "- O polimorfismo é um conceito na programação orientada a objetos que permite que objetos de diferentes classes sejam tratados de forma uniforme, desde que compartilhem uma mesma interface ou superclasse.\n",
    "- Significa que métodos podem ter comportamentos diferentes dependendo do tipo do objeto ao qual estão sendo aplicados."
   ],
   "metadata": {
    "collapsed": false
   }
  },
  {
   "cell_type": "markdown",
   "source": [
    "## 2. Classes e objetos"
   ],
   "metadata": {
    "collapsed": false
   }
  },
  {
   "cell_type": "markdown",
   "source": [
    "### 2.1 Criando nossa primeira classe\n",
    "\n",
    "Obs:\n",
    "A estrutura básica é definir os parâmetros entre parênteses o corpo da classe por chaves.\n",
    "Ambos são opcionais, sendo assim, podem ser omitidos.\n",
    "\n",
    "Abaixo, foi definida uma classe chamada `PrimeiraClasse`."
   ],
   "metadata": {
    "collapsed": false
   }
  },
  {
   "cell_type": "code",
   "execution_count": 1,
   "outputs": [],
   "source": [
    "class PrimeiraClasse"
   ],
   "metadata": {
    "collapsed": false,
    "ExecuteTime": {
     "end_time": "2024-03-07T11:37:50.308722100Z",
     "start_time": "2024-03-07T11:37:50.166719700Z"
    }
   }
  },
  {
   "cell_type": "markdown",
   "source": [
    "### 2.2 Criando instâncias de classes\n",
    "Para criar uma instância de uma classe, basta chamar o construtor como se fosse uma função regular.\n",
    "\n",
    "No exemplo, como a a classe `PrimeiraClasse` foi definida anterioremente, é chamado seu construtor."
   ],
   "metadata": {
    "collapsed": false
   }
  },
  {
   "cell_type": "code",
   "execution_count": 2,
   "outputs": [
    {
     "name": "stdout",
     "output_type": "stream",
     "text": [
      "Essa é a minha primeira classe Line_1_jupyter$PrimeiraClasse@407e0e26.\r\n"
     ]
    }
   ],
   "source": [
    "val primeiraInstanciaDaClasse = PrimeiraClasse()\n",
    "\n",
    "println(\"Essa é a minha primeira classe $primeiraInstanciaDaClasse.\")"
   ],
   "metadata": {
    "collapsed": false,
    "ExecuteTime": {
     "end_time": "2024-03-07T11:37:50.560735Z",
     "start_time": "2024-03-07T11:37:50.281720700Z"
    }
   }
  },
  {
   "cell_type": "markdown",
   "source": [
    "❗ *O Kotlin não possui a palavra-chave new*"
   ],
   "metadata": {
    "collapsed": false
   }
  },
  {
   "cell_type": "markdown",
   "source": [
    "### 2.2 Construtores\n",
    "\n",
    "No Kotlin, toda classe tem um construtor primário e, talvez, construtores secundários.\n",
    "\n",
    "No exemplo, é definido o construtor da classe `Professor` que recebe os parâmametros: `matricula` e `nome`."
   ],
   "metadata": {
    "collapsed": false
   }
  },
  {
   "cell_type": "code",
   "execution_count": 3,
   "outputs": [],
   "source": [
    "class Professor constructor(val matricula: Long, var nome: String)\n",
    "\n",
    "val gugawag = Professor(2254024, \"Gustavo Wagner\")"
   ],
   "metadata": {
    "collapsed": false,
    "ExecuteTime": {
     "end_time": "2024-03-07T11:37:50.730723Z",
     "start_time": "2024-03-07T11:37:50.549718300Z"
    }
   }
  },
  {
   "cell_type": "markdown",
   "source": [
    "Se o construtor primário não tiver nenhuma nenhum decorator (@Inject, @Target, @Retention, ...) e nenhum modificador de visibilidade (public, internal, protected, ...), podemos omití-lo, como foi feito abaixo."
   ],
   "metadata": {
    "collapsed": false
   }
  },
  {
   "cell_type": "code",
   "execution_count": 4,
   "outputs": [],
   "source": [
    "class Professor (val matricula: Long, var nome: String)\n",
    "\n",
    "val gugawag = Professor(2254024, \"Gustavo Wagner\")"
   ],
   "metadata": {
    "collapsed": false,
    "ExecuteTime": {
     "end_time": "2024-03-07T11:37:50.892720500Z",
     "start_time": "2024-03-07T11:37:50.693722600Z"
    }
   }
  },
  {
   "cell_type": "markdown",
   "source": [
    "Caso deseje executar algum código durante a criação dos objetos deve-se utilizar blocos de inicialização.\n",
    "Os blocos de inicialização são declarados utilizando a palavra-chave **init**.\n",
    "\n",
    "No exemplo abaixo, é criada uma classe `ListaDeCompras` que utiliza blocos de inicialização para preencher a lista e exibir seus itens."
   ],
   "metadata": {
    "collapsed": false
   }
  },
  {
   "cell_type": "code",
   "execution_count": 5,
   "outputs": [
    {
     "name": "stdout",
     "output_type": "stream",
     "text": [
      "Primeira versão da lista: \r\n",
      "[Maçã, Banana, Laranja]\r\n",
      "Segunda versão da lista: \r\n",
      "[Maçã, Banana, Laranja, Kiwi, Morango]\r\n"
     ]
    }
   ],
   "source": [
    "class ListaDeCompras {\n",
    "    val itens: MutableList<String> = mutableListOf()\n",
    "\n",
    "    init {\n",
    "        itens.add(\"Maçã\")\n",
    "        itens.add(\"Banana\")\n",
    "        itens.add(\"Laranja\")\n",
    "        println(\"Primeira versão da lista: \")\n",
    "        println(\"$itens\")\n",
    "    }\n",
    "\n",
    "    init {\n",
    "        itens.add(\"Kiwi\")\n",
    "        itens.add(\"Morango\")\n",
    "        println(\"Segunda versão da lista: \")\n",
    "        println(\"$itens\")\n",
    "    }\n",
    "}\n",
    "\n",
    "\n",
    "val lista = ListaDeCompras()"
   ],
   "metadata": {
    "collapsed": false,
    "ExecuteTime": {
     "end_time": "2024-03-07T11:37:51.089719700Z",
     "start_time": "2024-03-07T11:37:50.815719900Z"
    }
   }
  },
  {
   "cell_type": "markdown",
   "source": [
    "Podemos ainda tratar os valores recebidos como parâmetros.\n",
    "\n",
    "Abaixo, é criada a classe `Usuario` que, ao inicializada, garante que a primeira letra do `nome` do usuário seja maiúscula.\n"
   ],
   "metadata": {
    "collapsed": false
   }
  },
  {
   "cell_type": "code",
   "execution_count": 6,
   "outputs": [
    {
     "name": "stdout",
     "output_type": "stream",
     "text": [
      "gustavo\r\n"
     ]
    }
   ],
   "source": [
    "class Usuario(val id: Long, nome: String) {\n",
    "    val nome: String = nome.replaceFirstChar { if (it.isLowerCase()) it.titlecase() else it.toString() }\n",
    "}\n",
    "\n",
    "val gugawag = Professor(2254024, \"gustavo\")\n",
    "println(gugawag.nome)"
   ],
   "metadata": {
    "collapsed": false,
    "ExecuteTime": {
     "end_time": "2024-03-07T11:37:51.458721400Z",
     "start_time": "2024-03-07T11:37:51.077722500Z"
    }
   }
  },
  {
   "cell_type": "markdown",
   "source": [
    "Podemos também adicionar valores _default_ aos parâmetros da classe.\n",
    "\n",
    "Abaixo, é criada a classe `Produto` que recebe alguns valores _default_ em seus parâmetros.\n",
    "\n",
    "Perceba que não é passado nenhum parâmetro quando ela é instanciada, mas, mesmo assim, seus atributos mostram valores quando acessados."
   ],
   "metadata": {
    "collapsed": false
   }
  },
  {
   "cell_type": "code",
   "execution_count": 7,
   "outputs": [
    {
     "name": "stdout",
     "output_type": "stream",
     "text": [
      "Produto\r\n",
      "0.0\r\n",
      "true\r\n"
     ]
    }
   ],
   "source": [
    "class Produto(val nome: String = \"Produto\", val preco: Double = 0.0, val disponivel: Boolean = true)\n",
    "\n",
    "val produto =  Produto()\n",
    "println(produto.nome)\n",
    "println(produto.preco)\n",
    "println(produto.disponivel)"
   ],
   "metadata": {
    "collapsed": false,
    "ExecuteTime": {
     "end_time": "2024-03-07T11:37:51.721723400Z",
     "start_time": "2024-03-07T11:37:51.427721700Z"
    }
   }
  },
  {
   "cell_type": "markdown",
   "source": [
    "### 2.3 Companion Object\n",
    "\n",
    "O _Companion Object_ em Kotlin permite a criação de membros estáticos dentro de uma classe, acessíveis sem a necessidade de instanciar a classe. É útil para organizar funcionalidades compartilhadas por todas as instâncias da classe.\n",
    "\n",
    "No exemplo, é criada a classe `Aluno` que possui um _Companion Object_ com a variável `contador`. Veja que essa variável é incrementada toda vez que é criado um objeto dessa classe."
   ],
   "metadata": {
    "collapsed": false
   }
  },
  {
   "cell_type": "code",
   "execution_count": 8,
   "outputs": [],
   "source": [
    "class Aluno {\n",
    "    companion object {\n",
    "        var contador = 0\n",
    "    }\n",
    "    \n",
    "    constructor() {\n",
    "        contador += 1\n",
    "        println(\"Objeto Aluno de número: $contador\")\n",
    "    }\n",
    "}"
   ],
   "metadata": {
    "collapsed": false,
    "ExecuteTime": {
     "end_time": "2024-03-07T11:37:51.939719200Z",
     "start_time": "2024-03-07T11:37:51.677721400Z"
    }
   }
  },
  {
   "cell_type": "code",
   "execution_count": 9,
   "outputs": [
    {
     "name": "stdout",
     "output_type": "stream",
     "text": [
      "Objeto Aluno de número: 1\r\n",
      "Objeto Aluno de número: 2\r\n",
      "Objeto Aluno de número: 3\r\n"
     ]
    }
   ],
   "source": [
    "val aluno1 = Aluno() // contador = 1 \n",
    "val aluno2 = Aluno() // contador = 2\n",
    "val aluno3 = Aluno() // contador = 3"
   ],
   "metadata": {
    "collapsed": false,
    "ExecuteTime": {
     "end_time": "2024-03-07T11:37:52.061723Z",
     "start_time": "2024-03-07T11:37:51.902720500Z"
    }
   }
  },
  {
   "cell_type": "markdown",
   "source": [
    "Essa variável deve ser acessada através da classe em si, e não de seus objetos."
   ],
   "metadata": {
    "collapsed": false
   }
  },
  {
   "cell_type": "code",
   "execution_count": 10,
   "outputs": [
    {
     "name": "stdout",
     "output_type": "stream",
     "text": [
      "3\r\n"
     ]
    }
   ],
   "source": [
    "println(Aluno.contador)"
   ],
   "metadata": {
    "collapsed": false,
    "ExecuteTime": {
     "end_time": "2024-03-07T11:37:52.296721800Z",
     "start_time": "2024-03-07T11:37:52.016724100Z"
    }
   }
  },
  {
   "cell_type": "markdown",
   "source": [
    "### 2.4 Modificadores de visiblidade"
   ],
   "metadata": {
    "collapsed": false
   }
  },
  {
   "cell_type": "markdown",
   "source": [
    "#### Private, Protected, Internal e Public"
   ],
   "metadata": {
    "collapsed": false
   }
  },
  {
   "cell_type": "markdown",
   "source": [
    "private: significa que o membro é visível apenas dentro desta classe (incluindo todos os seus membros).\n",
    "\n",
    "protected: significa que o membro tem a mesma visibilidade que aquele marcado como private, mas também é visível nas subclasses.\n",
    "\n",
    "internal: significa que qualquer cliente dentro deste módulo que vê a classe declarante vê seus internalmembros.\n",
    "\n",
    "public: significa que qualquer cliente que veja a classe declarante verá seus publicmembros."
   ],
   "metadata": {
    "collapsed": false
   }
  },
  {
   "cell_type": "markdown",
   "source": [
    "No exemplo abaixo, é criada a classe `Carro` com atributos com diferentes modificadores de visibilidade.\n",
    "\n",
    "Veja que o método `exibirInfo()` tem acesso a todos os atributos pois está dentro da própria classe.\n",
    "\n",
    "Porém, na subclasse `CarroEsportivo`, esse método é modificado pois não consegue acessar o atributo `ano`, visto que ele foi definido como `private` na superclasse. No entanto, ele consegue acessar o atributo `cor`, já que esse foi definido como `protected`."
   ],
   "metadata": {
    "collapsed": false
   }
  },
  {
   "cell_type": "code",
   "execution_count": 11,
   "outputs": [
    {
     "name": "stdout",
     "output_type": "stream",
     "text": [
      "Ano do carro: Ford\r\n",
      "Modelo do carro: Fiesta\r\n",
      "Marca: Ford, Modelo: Fiesta, Ano: 2022, Cor: Preto\r\n",
      "Marca: Ford, Modelo: Fiesta, Cor: Preto\r\n"
     ]
    }
   ],
   "source": [
    "open class Carro {\n",
    "    public var marca: String = \"Ford\"\n",
    "    internal var modelo: String = \"Fiesta\"\n",
    "    private var ano: Int = 2022\n",
    "    protected var cor: String = \"Preto\"\n",
    "\n",
    "    open fun exibirInfo() {\n",
    "        println(\"Marca: $marca, Modelo: $modelo, Ano: $ano, Cor: $cor\")\n",
    "    }\n",
    "}\n",
    "\n",
    "class CarroEsportivo : Carro() {\n",
    "    override fun exibirInfo() {\n",
    "        println(\"Marca: $marca, Modelo: $modelo, Cor: $cor\")\n",
    "    }\n",
    "}\n",
    "\n",
    "val meuCarro = Carro()\n",
    "\n",
    "// Acesso permitido ao atributo ano (public)\n",
    "println(\"Ano do carro: ${meuCarro.marca}\")\n",
    "\n",
    "// Acesso permitido ao atributo modelo (internal)\n",
    "println(\"Modelo do carro: ${meuCarro.modelo}\")\n",
    "\n",
    "// Acesso proibido ao atributo marca (private)\n",
    "// println(\"Marca do carro: ${meuCarro.ano}\")\n",
    "\n",
    "// Acesso proibido ao atributo cor (protected)\n",
    "// println(\"Cor do carro: ${meuCarro.cor}\")\n",
    "\n",
    "meuCarro.exibirInfo()\n",
    "\n",
    "val meuCarroEsportivo = CarroEsportivo()\n",
    "meuCarroEsportivo.exibirInfo()\n"
   ],
   "metadata": {
    "collapsed": false,
    "ExecuteTime": {
     "end_time": "2024-03-07T11:37:52.574719900Z",
     "start_time": "2024-03-07T11:37:52.090721500Z"
    }
   }
  },
  {
   "cell_type": "markdown",
   "source": [
    "## 3. Classes diferentes"
   ],
   "metadata": {
    "collapsed": false
   }
  },
  {
   "cell_type": "markdown",
   "source": [
    "### 3.1 Abstratas"
   ],
   "metadata": {
    "collapsed": false
   }
  },
  {
   "cell_type": "markdown",
   "source": [
    "\n",
    "Uma classe abstrata em Kotlin é uma classe que não pode ser instanciada diretamente e pode conter métodos abstratos (sem implementação) que devem ser definidos por suas subclasses. Tanto a classe como os métodos abstratos são definidos pelo uso da palavra-chave **abstract**.\n",
    "\n",
    "No exemplo abaixo, é criada a classe abstrata `Animal` com seus respectivos métodos."
   ],
   "metadata": {
    "collapsed": false
   }
  },
  {
   "cell_type": "code",
   "execution_count": 12,
   "outputs": [],
   "source": [
    "abstract class Animal {\n",
    "    abstract val nome: String\n",
    "\n",
    "    abstract fun emitirSom()\n",
    "\n",
    "    fun comer() {\n",
    "        println(\"$nome está comendo!\")\n",
    "    }\n",
    "}"
   ],
   "metadata": {
    "collapsed": false,
    "ExecuteTime": {
     "end_time": "2024-03-07T11:37:52.665721800Z",
     "start_time": "2024-03-07T11:37:52.294722400Z"
    }
   }
  },
  {
   "cell_type": "markdown",
   "source": [
    "Como o método `emitirSom()` não foi implementado na classe abstrata, na classe `Gato` (que herda de `Animal`), esse método precisa ser implementado. Já o método `comer()`, como recebeu implementação na superclasse, não precisa ser implementado."
   ],
   "metadata": {
    "collapsed": false
   }
  },
  {
   "cell_type": "code",
   "execution_count": 13,
   "outputs": [
    {
     "name": "stdout",
     "output_type": "stream",
     "text": [
      "Princesinho está comendo!\r\n"
     ]
    }
   ],
   "source": [
    "class Gato(override val nome: String): Animal() {\n",
    "    override fun emitirSom() {\n",
    "        println(\"Miau\")\n",
    "    }\n",
    "}\n",
    "\n",
    "val gato1 = Gato(\"Princesinho\")\n",
    "gato1.comer()"
   ],
   "metadata": {
    "collapsed": false,
    "ExecuteTime": {
     "end_time": "2024-03-07T11:37:52.870720800Z",
     "start_time": "2024-03-07T11:37:52.361721200Z"
    }
   }
  },
  {
   "cell_type": "markdown",
   "source": [
    "### 3.2 Interfaces"
   ],
   "metadata": {
    "collapsed": false
   }
  },
  {
   "cell_type": "markdown",
   "source": [
    "Uma interface é um meio de conter algumas declarações prévias que uma classe deve conter (mapeamento das atividades,processos,argumentos e retornos). Ela cria uma espécie de \"contrato\" que as classes que a implementam devem seguir estritamente.\n",
    "\n",
    "A classe exemplo `AcaoAnimal` criada abaixo define as ações padrões de um animal."
   ],
   "metadata": {
    "collapsed": false
   }
  },
  {
   "cell_type": "code",
   "execution_count": 14,
   "outputs": [],
   "source": [
    "interface AcaoAnimal {\n",
    "    fun emitirSom(): Unit\n",
    "    fun realizarAcao(): Unit\n",
    "}"
   ],
   "metadata": {
    "collapsed": false,
    "ExecuteTime": {
     "end_time": "2024-03-07T11:37:52.935718Z",
     "start_time": "2024-03-07T11:37:52.486722300Z"
    }
   }
  },
  {
   "cell_type": "markdown",
   "source": [
    "Adiante, é feito o uso dessa interface ao criar as classes `Cachorro` e `Passaro`. Perceba que ambas implementam os métodos definidos na interface `AcaoAnimal`. \n",
    "\n",
    "Ao executá-los, eles diferenciam seu resultado de acordo com o objeto que o chamou."
   ],
   "metadata": {
    "collapsed": false
   }
  },
  {
   "cell_type": "code",
   "execution_count": 15,
   "outputs": [
    {
     "name": "stdout",
     "output_type": "stream",
     "text": [
      "O cachorro late e pula.\r\n",
      "Auau!\r\n",
      "O pássaro pia e cisca.\r\n",
      "Piu piuuu!\r\n"
     ]
    }
   ],
   "source": [
    "class Cachorro : AcaoAnimal {\n",
    "    override fun realizarAcao() {\n",
    "        println(\"O cachorro late e pula.\")\n",
    "    }\n",
    "\n",
    "    override fun emitirSom() {\n",
    "        println(\"Auau!\")\n",
    "    }\n",
    "}\n",
    "\n",
    "class Passaro : AcaoAnimal {\n",
    "    override fun realizarAcao() {\n",
    "        println(\"O pássaro pia e cisca.\")\n",
    "    }\n",
    "\n",
    "    override fun emitirSom() {\n",
    "        println(\"Piu piuuu!\")\n",
    "    }\n",
    "}\n",
    "\n",
    "val cachorro = Cachorro()\n",
    "cachorro.realizarAcao()\n",
    "cachorro.emitirSom()\n",
    "\n",
    "val passaro = Passaro()\n",
    "passaro.realizarAcao()\n",
    "passaro.emitirSom()"
   ],
   "metadata": {
    "collapsed": false,
    "ExecuteTime": {
     "end_time": "2024-03-07T11:37:52.998719800Z",
     "start_time": "2024-03-07T11:37:52.556719600Z"
    }
   }
  },
  {
   "cell_type": "markdown",
   "source": [
    "### 3.3 Open "
   ],
   "metadata": {
    "collapsed": false
   }
  },
  {
   "cell_type": "markdown",
   "source": [
    "Uma _Open Class_ é uma classe que pode ser herdada por outras classes.\n",
    "Usamos a palavra-chave **open** para isso.\n",
    "\n",
    "Abaixo, é criada a classe \"aberta\" `Animal`."
   ],
   "metadata": {
    "collapsed": false
   }
  },
  {
   "cell_type": "code",
   "execution_count": 16,
   "outputs": [],
   "source": [
    "open class Animal(val nome: String) {\n",
    "    open fun comer(comida: String) {\n",
    "        println(\"$nome está comendo $comida.\")\n",
    "    }\n",
    "}"
   ],
   "metadata": {
    "collapsed": false,
    "ExecuteTime": {
     "end_time": "2024-03-07T11:37:53.126720Z",
     "start_time": "2024-03-07T11:37:52.738719900Z"
    }
   }
  },
  {
   "cell_type": "markdown",
   "source": [
    "Como `Animal` utilizou a palavra-chave *open*, ela pode ser herdada pela subclasse abaixo chamada `Dinossauro`. Veja como ela acessa o método `comer()` da superclasse."
   ],
   "metadata": {
    "collapsed": false
   }
  },
  {
   "cell_type": "code",
   "execution_count": 17,
   "outputs": [
    {
     "name": "stdout",
     "output_type": "stream",
     "text": [
      "T-Rex está comendo Triceratops.\r\n"
     ]
    }
   ],
   "source": [
    "class Dinossauro(nome: String): Animal(nome)\n",
    "\n",
    "val dinossauro1 = Dinossauro(\"T-Rex\")\n",
    "dinossauro1.comer(\"Triceratops\")"
   ],
   "metadata": {
    "collapsed": false,
    "ExecuteTime": {
     "end_time": "2024-03-07T11:37:53.178718200Z",
     "start_time": "2024-03-07T11:37:52.808719900Z"
    }
   }
  },
  {
   "cell_type": "markdown",
   "source": [
    "### 3.4 Data Class"
   ],
   "metadata": {
    "collapsed": false
   }
  },
  {
   "cell_type": "markdown",
   "source": [
    "_Data Class_ em Kotlin é uma classe especializada em armazenar dados.\n",
    "Fornece por padrão métodos como `equals` e `toString`, que não estão disponíveis em classes comuns. Isso economiza tempo e reduz a quantidade de código que você precisa escrever para criar uma classe simples que apenas mantém dados.\n",
    "\n",
    "No exemplo abaixo, é criada um _dataclass_ `Medico` que armazena as informações típicas de um médico."
   ],
   "metadata": {
    "collapsed": false
   }
  },
  {
   "cell_type": "code",
   "execution_count": 18,
   "outputs": [
    {
     "name": "stdout",
     "output_type": "stream",
     "text": [
      "Medico(CRM=21050156, nome=Daniel Alves Montenegro)\r\n"
     ]
    }
   ],
   "source": [
    "data class Medico(val CRM: Long, val nome: String)\n",
    "\n",
    "val medico1 = Medico(21050156, \"Daniel Alves Montenegro\")\n",
    "println(medico1.toString())"
   ],
   "metadata": {
    "collapsed": false,
    "ExecuteTime": {
     "end_time": "2024-03-07T11:37:53.226723800Z",
     "start_time": "2024-03-07T11:37:52.962721200Z"
    }
   }
  },
  {
   "cell_type": "markdown",
   "source": [
    "### 3.5 Nested"
   ],
   "metadata": {
    "collapsed": false
   }
  },
  {
   "cell_type": "markdown",
   "source": [
    "As classes em Kotlin podem ser aninhadas a outras classes. Nesses casos, uma classe é declarada dentro de outra classe.\n",
    "\n",
    "Abaixo, é criada a classe `Escola` que possui a classe aninhada `Aluno`."
   ],
   "metadata": {
    "collapsed": false
   }
  },
  {
   "cell_type": "code",
   "execution_count": 19,
   "outputs": [
    {
     "name": "stdout",
     "output_type": "stream",
     "text": [
      "O aluno Matheus tem 19 anos.\r\n"
     ]
    }
   ],
   "source": [
    "class Escola(val nomeDaEscola: String) {\n",
    "    class Aluno(val nome: String, var idade: Int) {\n",
    "        fun acessarDetalhes() {\n",
    "            println(\"O aluno $nome tem $idade anos.\")\n",
    "        }\n",
    "    }\n",
    "}\n",
    "\n",
    "val escola = Escola(\"IFPB\")\n",
    "val aluno = Escola.Aluno(\"Matheus\", 19)\n",
    "aluno.acessarDetalhes()\n"
   ],
   "metadata": {
    "collapsed": false,
    "ExecuteTime": {
     "end_time": "2024-03-07T11:37:53.417734800Z",
     "start_time": "2024-03-07T11:37:53.225720Z"
    }
   }
  },
  {
   "cell_type": "markdown",
   "source": [
    "Também é possível usar essa ideia de aninhamento com _interfaces_. Todas as combinações entre classes e interfaces são possíveis: Você pode aninhar interfaces em classes, classes em interfaces e interfaces em interfaces."
   ],
   "metadata": {
    "collapsed": false
   }
  },
  {
   "cell_type": "markdown",
   "source": [
    "##### Aninhamento de interfaces em classes:\n",
    "\n",
    "Vamos considerar um exemplo onde temos uma classe `Loja` que precisa lidar com diferentes tipos de produtos, cada um com suas próprias características específicas. Podemos aninhar uma interface `Produto` dentro da classe `Loja` para definir métodos comuns para todos os produtos."
   ],
   "metadata": {
    "collapsed": false
   }
  },
  {
   "cell_type": "code",
   "execution_count": 20,
   "outputs": [
    {
     "name": "stdout",
     "output_type": "stream",
     "text": [
      "Livro: O Senhor dos Anéis, Autor: J.R.R. Tolkien\r\n",
      "Preço: R$ 39.9\r\n"
     ]
    }
   ],
   "source": [
    "class Loja(val nome: String) {\n",
    "    interface Produto {\n",
    "        fun mostrarDetalhes()\n",
    "        fun calcularPreco(): Double\n",
    "    }\n",
    "\n",
    "    class Livro(val titulo: String, val autor: String, val preco: Double) : Produto {\n",
    "        override fun mostrarDetalhes() {\n",
    "            println(\"Livro: $titulo, Autor: $autor\")\n",
    "        }\n",
    "\n",
    "        override fun calcularPreco(): Double {\n",
    "            return preco\n",
    "        }\n",
    "    }\n",
    "}\n",
    "\n",
    "val livro = Loja.Livro(\"O Senhor dos Anéis\", \"J.R.R. Tolkien\", 39.90)\n",
    "livro.mostrarDetalhes()\n",
    "println(\"Preço: R$ ${livro.calcularPreco()}\")\n"
   ],
   "metadata": {
    "collapsed": false,
    "ExecuteTime": {
     "end_time": "2024-03-07T11:37:54.173720200Z",
     "start_time": "2024-03-07T11:37:53.882721Z"
    }
   }
  },
  {
   "cell_type": "markdown",
   "source": [
    "##### Aninhamento de classes em interfaces:\n",
    "\n",
    "Vamos criar uma interface `Pagamento` que define operações comuns para diferentes métodos de pagamento, e aninharemos uma classe `Transacao` dentro dela para lidar com os detalhes de uma transação de pagamento."
   ],
   "metadata": {
    "collapsed": false
   }
  },
  {
   "cell_type": "code",
   "execution_count": 21,
   "outputs": [
    {
     "name": "stdout",
     "output_type": "stream",
     "text": [
      "Processando transação de Compra com cartão de crédito no valor de R$ 100.0\r\n"
     ]
    }
   ],
   "source": [
    "interface Pagamento {\n",
    "    class Transacao(val valor: Double, val descricao: String) {\n",
    "        fun processar() {\n",
    "            println(\"Processando transação de $descricao no valor de R$ $valor\")\n",
    "     \t\t// ...\n",
    "        }\n",
    "    }\n",
    "\n",
    "    fun realizarPagamento()\n",
    "}\n",
    "\n",
    "class CartaoCredito : Pagamento {\n",
    "    override fun realizarPagamento() {\n",
    "        val transacao = Pagamento.Transacao(100.0, \"Compra com cartão de crédito\")\n",
    "        transacao.processar()\n",
    "    }\n",
    "}\n",
    "\n",
    "val cartaoCredito = CartaoCredito()\n",
    "cartaoCredito.realizarPagamento()\n"
   ],
   "metadata": {
    "collapsed": false,
    "ExecuteTime": {
     "end_time": "2024-03-07T11:37:54.692720500Z",
     "start_time": "2024-03-07T11:37:54.438720400Z"
    }
   }
  },
  {
   "cell_type": "markdown",
   "source": [
    "##### Aninhamento de interfaces em interfaces:\n",
    "\n",
    "Vamos criar uma interface `Animal` que define características comuns de animais, e uma interface aninhada `Som` para representar os sons que cada animal faz."
   ],
   "metadata": {
    "collapsed": false
   }
  },
  {
   "cell_type": "code",
   "execution_count": 22,
   "outputs": [
    {
     "name": "stdout",
     "output_type": "stream",
     "text": [
      "O cachorro está correndo.\r\n",
      "Au au!\r\n"
     ]
    }
   ],
   "source": [
    "interface Animal {\n",
    "    interface Som {\n",
    "        fun fazerSom()\n",
    "    }\n",
    "\n",
    "    fun mover()\n",
    "}\n",
    "\n",
    "class Cachorro : Animal {\n",
    "    override fun mover() {\n",
    "        println(\"O cachorro está correndo.\")\n",
    "    }\n",
    "\n",
    "    inner class Latido : Animal.Som {\n",
    "        override fun fazerSom() {\n",
    "            println(\"Au au!\")\n",
    "        }\n",
    "    }\n",
    "}\n",
    "\n",
    "\n",
    "val cachorro = Cachorro()\n",
    "val latido = cachorro.Latido()\n",
    "\n",
    "cachorro.mover()\n",
    "latido.fazerSom()"
   ],
   "metadata": {
    "collapsed": false,
    "ExecuteTime": {
     "end_time": "2024-03-07T11:37:55.116721900Z",
     "start_time": "2024-03-07T11:37:54.957720500Z"
    }
   }
  },
  {
   "cell_type": "markdown",
   "source": [
    "### 3.6 Inner        "
   ],
   "metadata": {
    "collapsed": false
   }
  },
  {
   "cell_type": "markdown",
   "source": [
    "São como as nested classes, mas permitindo o acesso de itens da classe mais externa. Devem ser declaradas com a palavra-chave **inner**.\n",
    "\n",
    "No exemplo abaixo, criamos uma classe `Carro` que possui uma classe aninhada `Motor`. Nesse caso, a classe interna acessa o atributo `modelo` da classe externa no método `ligar()`."
   ],
   "metadata": {
    "collapsed": false
   }
  },
  {
   "cell_type": "code",
   "execution_count": 23,
   "outputs": [
    {
     "name": "stdout",
     "output_type": "stream",
     "text": [
      "BMW: Motor Rotativo ligado.\r\n"
     ]
    }
   ],
   "source": [
    "class Carro(val modelo: String) {\n",
    "    inner class Motor(val tipo: String) {\n",
    "        fun ligar() {\n",
    "            println(\"$modelo: Motor $tipo ligado.\")\n",
    "        }\n",
    "    }\n",
    "}\n",
    "\n",
    "val carro = Carro(\"BMW\")\n",
    "val motor = carro.Motor(\"Rotativo\")\n",
    "motor.ligar()\n"
   ],
   "metadata": {
    "collapsed": false,
    "ExecuteTime": {
     "end_time": "2024-03-07T11:37:56.228721200Z",
     "start_time": "2024-03-07T11:37:55.962721900Z"
    }
   }
  },
  {
   "cell_type": "markdown",
   "source": [
    "### 3.7 Sealed"
   ],
   "metadata": {
    "collapsed": false
   }
  },
  {
   "cell_type": "markdown",
   "source": [
    "É uma classe especial que restringe a hieraquia das subclasses a um conjunto dentro do próprio arquivo.\n",
    "Ou seja, pode somente ser herdada dentro do arquivo onde foi criada.\n",
    "\n",
    "No exemplo mostrado abaixo, é criada a classe `Resultado` que é herdada pela classe `Sucesso` que está dentro do mesmo arquivo."
   ],
   "metadata": {
    "collapsed": false
   }
  },
  {
   "cell_type": "code",
   "execution_count": 24,
   "outputs": [
    {
     "name": "stdout",
     "output_type": "stream",
     "text": [
      "O resultado foi: Feito com sucesso.\r\n"
     ]
    }
   ],
   "source": [
    "sealed class Resultado(val mensagem: String) {\n",
    "    fun mostrar() {\n",
    "        println(\"O resultado foi: $mensagem.\")\n",
    "    }\n",
    "}\n",
    "\n",
    "class Sucesso(mensagem: String) : Resultado(mensagem)\n",
    "\n",
    "val sucesso = Sucesso(\"Feito com sucesso\")\n",
    "sucesso.mostrar()"
   ],
   "metadata": {
    "collapsed": false,
    "ExecuteTime": {
     "end_time": "2024-03-07T11:37:56.970720500Z",
     "start_time": "2024-03-07T11:37:56.845721500Z"
    }
   }
  },
  {
   "cell_type": "markdown",
   "source": [
    "Porém, na classe `Erro` abaixo, o código não compilaria pois é como se as células fossem módulos diferentes e, por isso, a classe `Resultado` não pode ser herdada."
   ],
   "metadata": {
    "collapsed": false
   }
  },
  {
   "cell_type": "code",
   "execution_count": 25,
   "outputs": [],
   "source": [
    "// class Erro(mensagem: String): Resultado(mensagem)"
   ],
   "metadata": {
    "collapsed": false,
    "ExecuteTime": {
     "end_time": "2024-03-07T11:37:57.703718700Z",
     "start_time": "2024-03-07T11:37:57.563721100Z"
    }
   }
  },
  {
   "cell_type": "markdown",
   "source": [
    "### 3.8 Singleton"
   ],
   "metadata": {
    "collapsed": false
   }
  },
  {
   "cell_type": "markdown",
   "source": [
    "Semelhante ao `static` de Java.\n",
    "A singleton é uma instância única de uma classe. No Kotlin, isso é frequentemente implementado usando um objeto, pois os objetos são instâncias únicas por definição.\n",
    "\n",
    "No exemplo abaixo, foi criado uma classe singleton `Fachada` que se caracteriza por ser uma instância única. Perceba que a classe não foi instanciada em um objeto, e sim acessada diretamente. "
   ],
   "metadata": {
    "collapsed": false
   }
  },
  {
   "cell_type": "code",
   "execution_count": 26,
   "outputs": [
    {
     "name": "stdout",
     "output_type": "stream",
     "text": [
      "Criando objeto...\r\n",
      "Deletando objeto...\r\n"
     ]
    }
   ],
   "source": [
    "object Fachada {\n",
    "    fun criarObjeto() {\n",
    "        println(\"Criando objeto...\")\n",
    "    }\n",
    "    \n",
    "    fun deletarObjeto() {\n",
    "        println(\"Deletando objeto...\")\n",
    "    }\n",
    "}\n",
    "\n",
    "Fachada.criarObjeto()\n",
    "Fachada.deletarObjeto()"
   ],
   "metadata": {
    "collapsed": false,
    "ExecuteTime": {
     "end_time": "2024-03-07T11:37:58.564717500Z",
     "start_time": "2024-03-07T11:37:58.431722800Z"
    }
   }
  },
  {
   "cell_type": "markdown",
   "source": [
    "### 3.9 Enum"
   ],
   "metadata": {
    "collapsed": false
   }
  },
  {
   "cell_type": "markdown",
   "source": [
    "É uma estrutura de um conjunto fixo de valores nomeados e definidos.\n",
    "\n",
    "Abaixo, é criado um _Enum_ `Dia` que armazena os valores definidos dos dias da semana associados a um número : Int.\n",
    "\n",
    "A função `mensagemDia()` recebe um valor inteiro e, acessando `Dia`, verifica se o dia é \"Dia de trabalho\" ou \"Fim de semana\"."
   ],
   "metadata": {
    "collapsed": false
   }
  },
  {
   "cell_type": "code",
   "execution_count": 27,
   "outputs": [
    {
     "name": "stdout",
     "output_type": "stream",
     "text": [
      "Número do dia: 2. Dia de trabalho\r\n",
      "Número do dia: 6. Dia de trabalho\r\n",
      "Número do dia: 1. Fim de semana\r\n",
      "Número do dia: 7. Fim de semana\r\n"
     ]
    }
   ],
   "source": [
    "enum class Dia(val numero: Int) {\n",
    "    DOMINGO(1),\n",
    "    SEGUNDA(2),\n",
    "    TERCA(3),\n",
    "    QUARTA(4),\n",
    "    QUINTA(5),\n",
    "    SEXTA(6),\n",
    "    SABADO(7)\n",
    "}\n",
    "\n",
    "fun mensagemDia(numeroDia: Int) {\n",
    "\n",
    "    val msg = when (numeroDia) {\n",
    "        Dia.DOMINGO.numero, Dia.SABADO.numero -> \"Fim de semana\"\n",
    "        else -> \"Dia de trabalho\"\n",
    "    }\n",
    "\n",
    "    println(\"Número do dia: $numeroDia. $msg\")\n",
    "}\n",
    "\n",
    "mensagemDia(2)  // SEGUNDA\n",
    "mensagemDia(6)  // SEXTA\n",
    "mensagemDia(1)  // DOMINGO\n",
    "mensagemDia(7)  // SABADO"
   ],
   "metadata": {
    "collapsed": false,
    "ExecuteTime": {
     "end_time": "2024-03-07T11:37:59.699440700Z",
     "start_time": "2024-03-07T11:37:59.471456400Z"
    }
   }
  },
  {
   "cell_type": "markdown",
   "source": [
    "## 4. Override"
   ],
   "metadata": {
    "collapsed": false
   }
  },
  {
   "cell_type": "markdown",
   "source": [
    "\n",
    "A necessidade de realizar o override de getters e setters surge quando precisamos aplicar alguma lógica de negócios ou para facilitar aos desenvolvedores a definição de valores em um contêiner e obtenção de valores de acordo com a necessidade da lógica de negócios."
   ],
   "metadata": {
    "collapsed": false
   }
  },
  {
   "cell_type": "code",
   "execution_count": 28,
   "outputs": [
    {
     "name": "stderr",
     "output_type": "stream",
     "text": [
      "Line_28.jupyter.kts (16:2 - 2) Missing '}"
     ]
    }
   ],
   "source": [
    "class Retangulo(val altura: Int, val largura: Int) {\n",
    "    val area: int\n",
    "        get() = altura * largura\n",
    "\n",
    "class Cachorro{\n",
    "    // sobrescrevendo...\n",
    "    override var idadeAnimal: Int = 1\n",
    "        get() = field * 7\n",
    "        set(value) {\n",
    "            if (value > 0) {\n",
    "                field = value\n",
    "            } else {\n",
    "                println(\"Idade inalterada. Coloque um valor válido!\")\n",
    "            }\n",
    "        }\n",
    "}"
   ],
   "metadata": {
    "collapsed": false,
    "ExecuteTime": {
     "end_time": "2024-03-07T11:38:00.970995400Z",
     "start_time": "2024-03-07T11:38:00.910968500Z"
    }
   }
  },
  {
   "cell_type": "markdown",
   "source": [
    "Instanciando..."
   ],
   "metadata": {
    "collapsed": false
   }
  },
  {
   "cell_type": "code",
   "execution_count": 29,
   "outputs": [
    {
     "name": "stderr",
     "output_type": "stream",
     "text": [
      "Line_29.jupyter.kts (4:17 - 28) Unresolved reference: idadeAnimal\n",
      "Line_29.jupyter.kts (5:47 - 58) Unresolved reference: idadeAnimal\n",
      "Line_29.jupyter.kts (8:17 - 28) Unresolved reference: idadeAnimal\n",
      "Line_29.jupyter.kts (9:80 - 91) Unresolved reference: idadeAnimal"
     ]
    }
   ],
   "source": [
    "    val meuCachorro = Cachorro()\n",
    "\n",
    "    // o setter\n",
    "    meuCachorro.idadeAnimal = 5\n",
    "    println(\"Idade do cachorro: ${meuCachorro.idadeAnimal}\")\n",
    "\n",
    "    // atribuindo valor invalido\n",
    "    meuCachorro.idadeAnimal = -5\n",
    "    println(\"Idade do cachorro após tentativa de valor negativo: ${meuCachorro.idadeAnimal}\")"
   ],
   "metadata": {
    "collapsed": false,
    "ExecuteTime": {
     "end_time": "2024-03-07T11:38:02.888208300Z",
     "start_time": "2024-03-07T11:38:02.758207300Z"
    }
   }
  },
  {
   "cell_type": "code",
   "execution_count": null,
   "outputs": [],
   "source": [],
   "metadata": {
    "collapsed": false
   }
  }
 ],
 "metadata": {
  "kernelspec": {
   "display_name": "Kotlin",
   "language": "kotlin",
   "name": "kotlin"
  },
  "language_info": {
   "name": "kotlin",
   "version": "1.9.0",
   "mimetype": "text/x-kotlin",
   "file_extension": ".kt",
   "pygments_lexer": "kotlin",
   "codemirror_mode": "text/x-kotlin",
   "nbconvert_exporter": ""
  }
 },
 "nbformat": 4,
 "nbformat_minor": 0
}
