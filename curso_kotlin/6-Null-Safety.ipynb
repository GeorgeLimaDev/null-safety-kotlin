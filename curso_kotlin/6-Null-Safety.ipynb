{
 "cells": [
  {
   "cell_type": "markdown",
   "source": [
    "![Logo do Kotlin](https://upload.wikimedia.org/wikipedia/commons/thumb/d/d4/Kotlin_logo.svg/2560px-Kotlin_logo.svg.png)\n",
    "# Null Safety\n",
    "Este documento foi desenvolvido pelos seguintes alunos de TSI do IFPB, sob subervisão do professor Gustavo Wagner (2024.1):\n",
    "1. Amanda Cruz de Araújo\n",
    "2. George Lima\n",
    "3. Luiz Manoel\n",
    "4. Manoel Pedro\n",
    "5. Olivia Oliva\n",
    "\n",
    "\n",
    "### 1. Tipos anuláveis e não anuláveis\n",
    "O sistema de tipos em Kotlin visa eliminar o perigo de referências null, conhecido como \"The Billion Dollar Mistake\". \n",
    "\n",
    " - Curiosidade: Como surgiu o termo \"The Billion Dollar Mistake\"?\n",
    "   - Tony Hoare inventou a referência `null` em 1965 como parte da linguagem ALGOL W e, em 2009, ele descreveu sua invenção como um “erro de um bilhão de dólares”, afirmando que ela levou a inúmeros erros, vulnerabilidades e falhas de sistema, que, segundo ele, provavelmente causaram um bilhão de dólares de dor e danos nos últimos quarenta anos.\n",
    "\n",
    "Acessar uma referência `null` na maioria das linguagens resulta em uma exceção e, na mairia das vezes, a mesma é encontrada em tempo de execução. Porém em Kotlin uma `NullPointerException` só é causada em situações específicas e é encontrada em tempo de  compilação, o que facilita a vida do desenvolvedor. \n",
    "\n",
    "Em Kotlin, o sistema de tipos distingue referências que podem conter valores `null`(referências anuláveis) das que não podem (referências não anuláveis).\n",
    "\n",
    "O tipo `String` é um exemplo de um tipo não anulável. Observe que ao executar o código a seguir surgirá um erro de compilação, pois tentamos atribuir um valor null a um tipo não anulável."
   ],
   "metadata": {
    "collapsed": false
   }
  },
  {
   "cell_type": "code",
   "outputs": [
    {
     "name": "stderr",
     "output_type": "stream",
     "text": [
      "Line_77.jupyter.kts (2:9 - 13) Null can not be a value of a non-null type String"
     ]
    }
   ],
   "source": [
    "var aluno: String = \"Amanda\"\n",
    "aluno = null"
   ],
   "metadata": {
    "collapsed": false,
    "ExecuteTime": {
     "end_time": "2024-03-09T19:54:29.999287900Z",
     "start_time": "2024-03-09T19:54:29.563456100Z"
    }
   },
   "execution_count": 135
  },
  {
   "cell_type": "markdown",
   "source": [],
   "metadata": {
    "collapsed": false
   }
  },
  {
   "cell_type": "markdown",
   "source": [
    "Ao utilizar tipos não anuláveis note que podemos chamar um método ou acessar uma propriedade da variável sem a preocupação de uma `NullPointerException`, observe no código a seguir:"
   ],
   "metadata": {
    "collapsed": false
   }
  },
  {
   "cell_type": "code",
   "outputs": [
    {
     "name": "stdout",
     "output_type": "stream",
     "text": [
      "7\r\n"
     ]
    }
   ],
   "source": [
    "var professor: String = \"Gustavo\"\n",
    "println(professor.length)"
   ],
   "metadata": {
    "collapsed": false,
    "ExecuteTime": {
     "end_time": "2024-03-09T19:54:30.578739Z",
     "start_time": "2024-03-09T19:54:29.893571500Z"
    }
   },
   "execution_count": 136
  },
  {
   "cell_type": "markdown",
   "source": [
    "É possível permitir a atribuição de tipos nulos a tipos não anuláveis, para isso é preciso denotar explicitamente utlizando `String?` , como demostrado no código a seguir:"
   ],
   "metadata": {
    "collapsed": false
   }
  },
  {
   "cell_type": "markdown",
   "source": [],
   "metadata": {
    "collapsed": false
   }
  },
  {
   "cell_type": "code",
   "outputs": [
    {
     "name": "stdout",
     "output_type": "stream",
     "text": [
      "null"
     ]
    }
   ],
   "source": [
    "var teste: String? = \"Agora aceita null\"\n",
    "teste = null\n",
    "print(teste)"
   ],
   "metadata": {
    "collapsed": false,
    "ExecuteTime": {
     "end_time": "2024-03-09T19:54:30.896887900Z",
     "start_time": "2024-03-09T19:54:30.359325900Z"
    }
   },
   "execution_count": 137
  },
  {
   "cell_type": "markdown",
   "source": [
    "Nesse caso é preciso ter atenção para não ocorrerem erros de compilação, como ocorre no exemplo a seguir:"
   ],
   "metadata": {
    "collapsed": false
   }
  },
  {
   "cell_type": "code",
   "outputs": [
    {
     "name": "stdout",
     "output_type": "stream",
     "text": [
      "null\r\n"
     ]
    }
   ],
   "source": [
    "var opa: String? = \"Será que vai dar erro?\"\n",
    "opa = null\n",
    "println(opa.length)\n"
   ],
   "metadata": {
    "collapsed": false,
    "ExecuteTime": {
     "end_time": "2024-03-10T05:01:53.981634500Z",
     "start_time": "2024-03-10T05:01:53.913633400Z"
    }
   },
   "execution_count": 8
  },
  {
   "cell_type": "markdown",
   "source": [
    "Porém não se preocupe, nesse caso também é possível acessar essa propriedade sem gerar erros de compilação, veremos como fazer isso a seguir!\n",
    " \n"
   ],
   "metadata": {
    "collapsed": false
   }
  },
  {
   "cell_type": "markdown",
   "source": [
    "### 2. Checagem de valores Nulos\n",
    "\n",
    "Como já visto, a linguagem Kotlin procura evitar erros relacionados à manipulação de valores nulos ainda em tempo de densenvolvimento, induzindo a pessoa desenvolvedora a adicionar operações de verificação antes de tentar acessar valores possivelmente nulos. Abaixo serão apresentadas formas de se fazer esta verificação utilizando tanto recursos comuns a outras linguagens de programação quanto recursos característicos da linguagem Kotlin.\n",
    "Os dois exemplos abaixo utilizam uma estrutura padrão de checagem de condição (if statement) para verificar quais valores são ou não nulos antes de acessá-los."
   ],
   "metadata": {
    "collapsed": false
   }
  },
  {
   "cell_type": "code",
   "outputs": [
    {
     "name": "stdout",
     "output_type": "stream",
     "text": [
      "Tamanho da palavra informada: 0 caracteres\r\n"
     ]
    }
   ],
   "source": [
    "val exemploDePalavra: String? = null\n",
    "val tamanhoDaPalavra = if (exemploDePalavra != null) exemploDePalavra.length else 0\n",
    "//Atribui o valor dinâmico caso a expressão lógica retorne true, e um valor estático 0 caso o retorno seja false.\n",
    " \n",
    "println(\"Tamanho da palavra informada: $tamanhoDaPalavra caracteres\")\n"
   ],
   "metadata": {
    "collapsed": false,
    "ExecuteTime": {
     "end_time": "2024-03-09T19:54:31.383585500Z",
     "start_time": "2024-03-09T19:54:30.568765500Z"
    }
   },
   "execution_count": 139
  },
  {
   "cell_type": "markdown",
   "source": [
    "Experimente alterar o valor da variável `exemploDePalavra` na linha 1 para `null` e execute novamente.\n",
    "Por enquanto não precisa se preocupar com o operador `?`. Ele será explicado na seção seguinte."
   ],
   "metadata": {
    "collapsed": false
   }
  },
  {
   "cell_type": "markdown",
   "source": [
    "O exmeplo a seguir itera sobre uma coleção de dados e imprime na tela somente os dados não nulos."
   ],
   "metadata": {
    "collapsed": false
   }
  },
  {
   "cell_type": "code",
   "execution_count": 140,
   "outputs": [
    {
     "name": "stdout",
     "output_type": "stream",
     "text": [
      "João José\r\n",
      "false\r\n",
      "0.0\r\n"
     ]
    }
   ],
   "source": [
    "var nome = \"João José\"\n",
    "var idade = null\n",
    "var estaEmpregado = false\n",
    "var renda = 0.0\n",
    "\n",
    "var dadosUsuario = mutableListOf(nome, idade, estaEmpregado, renda)\n",
    "\n",
    "for(dado in dadosUsuario) {\n",
    "    if(dado != null) {\n",
    "        println(dado) //Somente os dados não nulos serão exibidos.\n",
    "    }\n",
    "}"
   ],
   "metadata": {
    "collapsed": false,
    "ExecuteTime": {
     "end_time": "2024-03-09T19:54:31.597015500Z",
     "start_time": "2024-03-09T19:54:30.780199900Z"
    }
   }
  },
  {
   "cell_type": "markdown",
   "source": [
    "Para fins didáticos, os tipos das variáveis acima não foram definidos explicitamente. Sendo assim, foram inferidos a partir dos valores de inicialização, logo nenhum deles pode assumir `null` ao longo da execução do código, exceto se forem inicialmente assim declarados.\n",
    "Uma vez familiarizado com o operador `?`, é possível declarar variáveis que permitam receber tanto tipos não nulos quanto o valor `null`, podendo ser alteradas ao longo da execução do código, permitindo assim maior flexibilidade no desenvolvimento."
   ],
   "metadata": {
    "collapsed": false
   }
  },
  {
   "cell_type": "markdown",
   "source": [
    "### 3. Safe calls\n",
    "Conteúdo"
   ],
   "metadata": {
    "collapsed": false
   }
  },
  {
   "cell_type": "code",
   "outputs": [],
   "source": [],
   "metadata": {
    "collapsed": false,
    "ExecuteTime": {
     "end_time": "2024-03-09T19:54:31.622954400Z",
     "start_time": "2024-03-09T19:54:31.358654100Z"
    }
   },
   "execution_count": 141
  },
  {
   "cell_type": "markdown",
   "source": [
    "### 4. Nullable receiver\n",
    "Em Kotlin, podemos criar funções extras para classes já existentes sem mudar essas classes (alterando o código-fonte delas ou herdando), chamadas de \"funções de extensão\". O diferencial positivo é que essas funções podem ser chamadas até mesmo quando envolverem variáveis que possivelmente não têm valor (são null). Isso ajuda a tornar nosso código mais seguro e limpo, porque podemos usar essas funções sem nos preocuparmos se a variável é null, evitando o erro de NullPointerException.\n",
    "\n",
    "#### Principais pontos positivos do uso:\n",
    "\n",
    "Os Nullable Receivers são importantes porque:\n",
    "\n",
    "- Promovem a segurança contra null: Ao permitir que funções de extensão sejam chamadas em referências que podem ser null, Kotlin elimina a necessidade de verificações explícitas de null, tornando o código mais limpo e legível.\n",
    "\n",
    "- Facilitam a manipulação de tipos nullable: Em Kotlin, lidar com tipos nullable é uma ocorrência comum. Os Nullable Receivers permitem que operações sejam executadas em valores null de maneira segura, sem causar NullPointerException.\n",
    "\n",
    "- Aumentam a expressividade do código: Com os Nullable Receivers, é possível escrever funções que operam de maneira diferente dependendo de seu receptor ser null ou não, oferecendo uma maneira flexível de tratar casos nulos.\n",
    "\n",
    "#### Lógica por trás dos Nullable Receivers\n",
    "\n",
    "A lógica dos Nullable Receivers em Kotlin é baseada no princípio de que é possível chamar funções em objetos null sem causar erros em tempo de execução. Se o receptor (o objeto no qual a função de extensão é chamada) for null, a função simplesmente não será executada, evitando assim o NullPointerException.\n",
    "\n",
    "No exemplo a seguir, printWithPrefix é uma função de extensão que aceita um String? como receptor. Isso significa que ela pode ser chamada em uma String que pode ser null. Dentro da função, usamos if (this != null) para verificar se o receptor é null e agir de acordo. Esse é um padrão comum ao trabalhar com Nullable Receivers em Kotlin.\n"
   ],
   "metadata": {
    "collapsed": false
   }
  },
  {
   "cell_type": "code",
   "outputs": [],
   "source": [
    "//manoel\n",
    "// Definindo uma função de extensão para String? que pode ser chamada em referências nulas\n",
    "fun String?.printWithPrefix(prefix: String) {\n",
    "    if (this != null) {\n",
    "        println(\"$prefix $this\")\n",
    "    } else {\n",
    "        println(\"$prefix é null\")\n",
    "    }\n",
    "}\n",
    "\n",
    "// Uso da função de extensão em um objeto que pode ser null\n",
    "fun main() {\n",
    "    val strNull: String? = null\n",
    "    val strNotNull: String? = \"Kotlin\"\n",
    "    \n",
    "    \n",
    "    // Chamando a função de extensão em ambos, um objeto nulo e um não nulo\n",
    "    strNull.printWithPrefix(\"O valor\")\n",
    "    strNotNull.printWithPrefix(\"O valor\")\n",
    "    \n",
    "    \n",
    "    \n",
    "}\n",
    "\n"
   ],
   "metadata": {
    "collapsed": false,
    "ExecuteTime": {
     "end_time": "2024-03-10T05:10:44.339322800Z",
     "start_time": "2024-03-10T05:10:44.291322800Z"
    }
   },
   "execution_count": 16
  },
  {
   "cell_type": "markdown",
   "source": [
    "### 5. Elvis operator\n",
    "Conteúdo"
   ],
   "metadata": {
    "collapsed": false
   }
  },
  {
   "cell_type": "code",
   "outputs": [],
   "source": [],
   "metadata": {
    "collapsed": false,
    "ExecuteTime": {
     "end_time": "2024-03-09T19:54:31.850341900Z",
     "start_time": "2024-03-09T19:54:31.553132600Z"
    }
   },
   "execution_count": 143
  },
  {
   "cell_type": "markdown",
   "source": [
    "### 6. The !! operator\n",
    "Conteúdo"
   ],
   "metadata": {
    "collapsed": false
   }
  },
  {
   "cell_type": "code",
   "outputs": [],
   "source": [],
   "metadata": {
    "collapsed": false,
    "ExecuteTime": {
     "end_time": "2024-03-09T19:54:32.418177900Z",
     "start_time": "2024-03-09T19:54:31.851337700Z"
    }
   },
   "execution_count": 144
  },
  {
   "cell_type": "markdown",
   "source": [
    "### 7. Safe casts\n",
    "\n",
    "#### O que são Safe Casts?\n",
    "\n",
    "Em Kotlin, o operador de safe cast as? permite tentar converter um tipo de objeto em outro de maneira segura. Diferentemente do operador de cast regular as, que lança uma exceção ClassCastException se a conversão não for possível, o operador de safe cast as? retorna null se a conversão falhar. Isso é particularmente útil em Kotlin devido à sua ênfase na segurança contra valores null e na prevenção de exceções em tempo de execução.\n",
    "\n",
    "#### Por que são importantes?\n",
    "\n",
    "Safe casts são importantes porque:\n",
    "\n",
    "- Previnem exceções inesperadas: Ao usar as?, você evita ClassCastException se a conversão de tipos não for possível, o que pode levar a uma execução de programa mais estável.\n",
    "- Facilitam a manipulação de tipos desconhecidos: Quando você está trabalhando com tipos que são determinados em tempo de execução e você não tem certeza se a conversão de tipos é segura, o operador as? oferece uma maneira de tentar essa conversão sem arriscar uma falha do programa.\n",
    "- Promovem a segurança contra null: Ao retornar null em caso de falha na conversão, as? se alinha perfeitamente com a filosofia de Kotlin de tratar null de maneira explícita e segura."
   ],
   "metadata": {
    "collapsed": false
   }
  },
  {
   "cell_type": "code",
   "outputs": [],
   "source": [
    "fun main() {\n",
    "    val obj: Any = \"Este é um teste\"\n",
    "\n",
    "    // Tentativa de safe cast de obj para String\n",
    "    val str: String? = obj as? String\n",
    "    println(str) // Funciona porque obj é uma String\n",
    "\n",
    "    // Tentativa de safe cast de obj para StringBuilder\n",
    "    val sb: StringBuilder? = obj as? StringBuilder\n",
    "    println(sb) // Retorna null porque obj não pode ser convertido para StringBuilder\n",
    "}"
   ],
   "metadata": {
    "collapsed": false,
    "ExecuteTime": {
     "end_time": "2024-03-10T05:13:43.277015100Z",
     "start_time": "2024-03-10T05:13:43.107017200Z"
    }
   },
   "execution_count": 1
  },
  {
   "cell_type": "markdown",
   "source": [
    "### 8. Coleções de um tipo anulável"
   ],
   "metadata": {
    "collapsed": false
   }
  },
  {
   "cell_type": "markdown",
   "source": [
    "Para filtrar elementos não null de uma coleção de elementos de tipos anuláveis, podemos utilizar a função `filterNotNull`, observe no código a seguir:"
   ],
   "metadata": {
    "collapsed": false
   }
  },
  {
   "cell_type": "code",
   "outputs": [
    {
     "name": "stdout",
     "output_type": "stream",
     "text": [
      "[Amanda, George, Luiz, Manoel, Olivia]\r\n"
     ]
    }
   ],
   "source": [
    "val listaAnulaveis: List<String?> = listOf(\"Amanda\",null,\"George\", \"Luiz\" ,null,\"Manoel\", \"Olivia\")\n",
    "val inList: List<String> = listaAnulaveis.filterNotNull()\n",
    "println(inList)"
   ],
   "metadata": {
    "collapsed": false,
    "ExecuteTime": {
     "end_time": "2024-03-09T19:54:32.784200400Z",
     "start_time": "2024-03-09T19:54:32.526887700Z"
    }
   },
   "execution_count": 146
  },
  {
   "cell_type": "markdown",
   "source": [
    "### 9. Prática\n",
    "\n",
    "Vamos revisar e fixar alguns conhecimentos de Null Safety? :)\n",
    "\n",
    "O código fornecido em src\\main\\kotlin\\praticas\\6-Null-Safety.kt é referente a um sistema de registro de atividades e será nossa base para esse exercício. Dessa forma, siga as instruções a seguir."
   ],
   "metadata": {
    "collapsed": false
   }
  },
  {
   "cell_type": "markdown",
   "source": [
    "- Na linha 23 do código é instaciada uma atividade com valor de descrição igual a null (sendo que descrição é tipo String). Execute o código e observe que não surgirá erro de compilação. Entretanto, descomente a linha 26 e observe o erro de compilação fornecido. Sua primeira missão aqui é corrigir o código para que esse erro não ocorra."
   ],
   "metadata": {
    "collapsed": false
   }
  },
  {
   "cell_type": "markdown",
   "source": [
    "### 10. Referências:\n",
    "\n",
    "1. https://kotlinlang.org/docs/null-safety.html#nullable-types-and-non-nullable-types\n",
    "\n",
    "2. https://books.goalkicker.com/KotlinBook/\n",
    "\n",
    "3. https://medium.com/android-news/how-kotlin-addresses-the-billion-dollar-mistake-27609c82703e\n",
    "\n",
    "4. https://www.infoq.com/presentations/Null-References-The-Billion-Dollar-Mistake-Tony-Hoare/\n"
   ],
   "metadata": {
    "collapsed": false
   }
  }
 ],
 "metadata": {
  "kernelspec": {
   "display_name": "Kotlin",
   "language": "kotlin",
   "name": "kotlin"
  },
  "language_info": {
   "name": "kotlin",
   "version": "1.9.0",
   "mimetype": "text/x-kotlin",
   "file_extension": ".kt",
   "pygments_lexer": "kotlin",
   "codemirror_mode": "text/x-kotlin",
   "nbconvert_exporter": ""
  }
 },
 "nbformat": 4,
 "nbformat_minor": 0
}
