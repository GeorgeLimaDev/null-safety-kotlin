{
 "cells": [
  {
   "cell_type": "markdown",
   "source": [
    "![Logo do Kotlin](https://upload.wikimedia.org/wikipedia/commons/thumb/d/d4/Kotlin_logo.svg/2560px-Kotlin_logo.svg.png)\n",
    "# Null Safety\n",
    "Este documento foi desenvolvido pelos seguintes alunos de TSI do IFPB, sob subervisão do professor Gustavo Wagner (2024.1):\n",
    "1. Amanda Cruz de Araújo\n",
    "2. George Lima\n",
    "3. Luiz Manoel\n",
    "4. Manoel Pedro\n",
    "5. Olivia Oliva\n",
    "\n",
    "### 1. Tipos anuláveis e não anuláveis\n",
    "O sistema de tipos em Kotlin visa eliminar o perigo de referências null, conhecido como \"The Billion Dollar Mistake\". \n",
    "\n",
    " - Curiosidade: Como surgiu o termo \"The Billion Dollar Mistake\"?\n",
    "   - Tony Hoare inventou a referência `null` em 1965 como parte da linguagem ALGOL W e, em 2009, ele descreveu sua invenção como um “erro de um bilhão de dólares”, afirmando que ela levou a inúmeros erros, vulnerabilidades e falhas de sistema, que, segundo ele, provavelmente causaram um bilhão de dólares de dor e danos nos últimos quarenta anos.\n",
    "\n",
    "Acessar uma referência null na maioria das linguagens resulta em uma exceção e, na mairia das vezes, a mesma é encontrada em tempo de execução. Porém em Kotlin uma `NullPointerException` só é causada em situações específicas e é encontrada em tempo de  compilação, o que facilita a vida do desenvolvedor. \n",
    "\n",
    "Em Kotlin, o sistema de tipos distingue referências que podem conter valores `null`(referências anuláveis) das que não podem (referências não anuláveis).\n",
    "\n",
    "O tipo `String` é um exemplo de um tipo não anulável. Observe que ao executar o código a seguir surgirá um erro de compilação, pois tentamos atribuir um valor null a um tipo não anulável."
   ],
   "metadata": {
    "collapsed": false
   }
  },
  {
   "cell_type": "code",
   "outputs": [
    {
     "name": "stderr",
     "output_type": "stream",
     "text": [
      "Line_54.jupyter.kts (2:5 - 9) Null can not be a value of a non-null type String"
     ]
    }
   ],
   "source": [
    "var a: String = \"abc\" // Regular initialization means non-nullable by default\n",
    "a = null // compilation error"
   ],
   "metadata": {
    "collapsed": false,
    "ExecuteTime": {
     "end_time": "2024-03-09T16:01:51.628547500Z",
     "start_time": "2024-03-09T16:01:49.519582700Z"
    }
   },
   "execution_count": 96
  },
  {
   "cell_type": "markdown",
   "source": [
    "Ao utilizar tipos não anuláveis note que podemos chamar um método ou acessar uma propriedade da variável sem a preocupação de uma `NullPointerException`, observe no código a seguir:"
   ],
   "metadata": {
    "collapsed": false
   }
  },
  {
   "cell_type": "code",
   "outputs": [
    {
     "name": "stdout",
     "output_type": "stream",
     "text": [
      "22\r\n"
     ]
    }
   ],
   "source": [
    "var b: String = \"Aprendendo Null Safety\"\n",
    "println(b.length)"
   ],
   "metadata": {
    "collapsed": false,
    "ExecuteTime": {
     "end_time": "2024-03-09T16:01:52.522262600Z",
     "start_time": "2024-03-09T16:01:51.622564Z"
    }
   },
   "execution_count": 97
  },
  {
   "cell_type": "markdown",
   "source": [
    "É possível permitir a atribuição de tipos nulos à tipos não anuláveis, para isso é preciso denotar explicitamente utlizando `String?` , como demostrado no código a seguir:"
   ],
   "metadata": {
    "collapsed": false
   }
  },
  {
   "cell_type": "markdown",
   "source": [],
   "metadata": {
    "collapsed": false
   }
  },
  {
   "cell_type": "code",
   "outputs": [
    {
     "name": "stdout",
     "output_type": "stream",
     "text": [
      "null"
     ]
    }
   ],
   "source": [
    "var c: String? = \"Agora aceita null\" // can be set to null\n",
    "c = null // ok\n",
    "print(c)"
   ],
   "metadata": {
    "collapsed": false,
    "ExecuteTime": {
     "end_time": "2024-03-09T16:01:52.671860400Z",
     "start_time": "2024-03-09T16:01:52.510296100Z"
    }
   },
   "execution_count": 98
  },
  {
   "cell_type": "markdown",
   "source": [
    "Nesse caso é preciso ter atenção para que não ocorram erros de compilação, como ocorre no exemplo a seguir:"
   ],
   "metadata": {
    "collapsed": false
   }
  },
  {
   "cell_type": "code",
   "outputs": [
    {
     "name": "stderr",
     "output_type": "stream",
     "text": [
      "Line_57.jupyter.kts (3:10 - 11) Only safe (?.) or non-null asserted (!!.) calls are allowed on a nullable receiver of type String?"
     ]
    }
   ],
   "source": [
    "var d: String? = \"Será que vai dar erro?\"\n",
    "d = null\n",
    "println(d.length)\n"
   ],
   "metadata": {
    "collapsed": false,
    "ExecuteTime": {
     "end_time": "2024-03-09T16:01:52.818469300Z",
     "start_time": "2024-03-09T16:01:52.623989400Z"
    }
   },
   "execution_count": 99
  },
  {
   "cell_type": "markdown",
   "source": [
    "Porém não se preocupe, nesse caso também é possível acessar essa propriedade sem gerar erros de compilação, veremos como fazer isso a seguir!\n",
    " \n"
   ],
   "metadata": {
    "collapsed": false
   }
  },
  {
   "cell_type": "markdown",
   "source": [
    "### 2. Checking for null in conditions\n",
    "\n",
    "Conteúdo"
   ],
   "metadata": {
    "collapsed": false
   }
  },
  {
   "cell_type": "code",
   "outputs": [],
   "source": [],
   "metadata": {
    "collapsed": false,
    "ExecuteTime": {
     "end_time": "2024-03-09T16:01:52.884293Z",
     "start_time": "2024-03-09T16:01:52.705775500Z"
    }
   },
   "execution_count": 100
  },
  {
   "cell_type": "markdown",
   "source": [
    "### 3. Safe calls\n",
    "Conteúdo"
   ],
   "metadata": {
    "collapsed": false
   }
  },
  {
   "cell_type": "code",
   "outputs": [],
   "source": [],
   "metadata": {
    "collapsed": false,
    "ExecuteTime": {
     "end_time": "2024-03-09T16:01:52.902245800Z",
     "start_time": "2024-03-09T16:01:52.711756100Z"
    }
   },
   "execution_count": 101
  },
  {
   "cell_type": "markdown",
   "source": [
    "### 4. Nullable receiver\n",
    "Conteudo"
   ],
   "metadata": {
    "collapsed": false
   }
  },
  {
   "cell_type": "code",
   "outputs": [],
   "source": [],
   "metadata": {
    "collapsed": false,
    "ExecuteTime": {
     "end_time": "2024-03-09T16:01:52.930170100Z",
     "start_time": "2024-03-09T16:01:52.719732600Z"
    }
   },
   "execution_count": 102
  },
  {
   "cell_type": "markdown",
   "source": [
    "### 5. Elvis operator\n",
    "Conteúdo"
   ],
   "metadata": {
    "collapsed": false
   }
  },
  {
   "cell_type": "code",
   "outputs": [],
   "source": [],
   "metadata": {
    "collapsed": false,
    "ExecuteTime": {
     "end_time": "2024-03-09T16:01:52.936211Z",
     "start_time": "2024-03-09T16:01:52.722725800Z"
    }
   },
   "execution_count": 103
  },
  {
   "cell_type": "markdown",
   "source": [
    "### 6. The !! operator\n",
    "Conteúdo"
   ],
   "metadata": {
    "collapsed": false
   }
  },
  {
   "cell_type": "code",
   "outputs": [],
   "source": [],
   "metadata": {
    "collapsed": false,
    "ExecuteTime": {
     "end_time": "2024-03-09T16:01:52.960096300Z",
     "start_time": "2024-03-09T16:01:52.729706100Z"
    }
   },
   "execution_count": 104
  },
  {
   "cell_type": "markdown",
   "source": [
    "### 7. Safe casts"
   ],
   "metadata": {
    "collapsed": false
   }
  },
  {
   "cell_type": "markdown",
   "source": [
    "Conteúdo"
   ],
   "metadata": {
    "collapsed": false
   }
  },
  {
   "cell_type": "code",
   "outputs": [],
   "source": [],
   "metadata": {
    "collapsed": false,
    "ExecuteTime": {
     "end_time": "2024-03-09T16:01:53.104418200Z",
     "start_time": "2024-03-09T16:01:52.735690500Z"
    }
   },
   "execution_count": 105
  },
  {
   "cell_type": "markdown",
   "source": [
    "### 8. Coleções de um tipo anulável"
   ],
   "metadata": {
    "collapsed": false
   }
  },
  {
   "cell_type": "markdown",
   "source": [
    "Para filtrar elementos não null de uma coleção de elementos de tipos anuláveis, podemos utilizar a função `filterNotNull`, observe no código a seguir:"
   ],
   "metadata": {
    "collapsed": false
   }
  },
  {
   "cell_type": "code",
   "outputs": [
    {
     "name": "stdout",
     "output_type": "stream",
     "text": [
      "[6, 9, 12, 2]\r\n"
     ]
    }
   ],
   "source": [
    "val nullableList: List<Int?> = listOf(6, 9, 12, null, 2,null)\n",
    "val intList: List<Int> = nullableList.filterNotNull()\n",
    "println(intList)"
   ],
   "metadata": {
    "collapsed": false,
    "ExecuteTime": {
     "end_time": "2024-03-09T16:01:53.339780300Z",
     "start_time": "2024-03-09T16:01:52.745671600Z"
    }
   },
   "execution_count": 106
  },
  {
   "cell_type": "markdown",
   "source": [
    "### 9. Prática"
   ],
   "metadata": {
    "collapsed": false
   }
  },
  {
   "cell_type": "markdown",
   "source": [],
   "metadata": {
    "collapsed": false
   }
  },
  {
   "cell_type": "markdown",
   "source": [
    "### 10. Referências:\n",
    "\n",
    "1. https://kotlinlang.org/docs/null-safety.html#nullable-types-and-non-nullable-types\n",
    "\n",
    "2. https://books.goalkicker.com/KotlinBook/\n",
    "\n",
    "3. https://medium.com/android-news/how-kotlin-addresses-the-billion-dollar-mistake-27609c82703e\n",
    "\n",
    "4. https://www.infoq.com/presentations/Null-References-The-Billion-Dollar-Mistake-Tony-Hoare/\n"
   ],
   "metadata": {
    "collapsed": false
   }
  }
 ],
 "metadata": {
  "kernelspec": {
   "display_name": "Kotlin",
   "language": "kotlin",
   "name": "kotlin"
  },
  "language_info": {
   "name": "kotlin",
   "version": "1.9.0",
   "mimetype": "text/x-kotlin",
   "file_extension": ".kt",
   "pygments_lexer": "kotlin",
   "codemirror_mode": "text/x-kotlin",
   "nbconvert_exporter": ""
  }
 },
 "nbformat": 4,
 "nbformat_minor": 0
}
